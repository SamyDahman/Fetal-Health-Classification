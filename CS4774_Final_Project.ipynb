{
  "nbformat": 4,
  "nbformat_minor": 0,
  "metadata": {
    "kernelspec": {
      "display_name": "Python 3",
      "language": "python",
      "name": "python3"
    },
    "language_info": {
      "codemirror_mode": {
        "name": "ipython",
        "version": 3
      },
      "file_extension": ".py",
      "mimetype": "text/x-python",
      "name": "python",
      "nbconvert_exporter": "python",
      "pygments_lexer": "ipython3",
      "version": "3.6.8"
    },
    "nav_menu": {},
    "toc": {
      "navigate_menu": true,
      "number_sections": true,
      "sideBar": true,
      "threshold": 6,
      "toc_cell": false,
      "toc_section_display": "block",
      "toc_window_display": false
    },
    "colab": {
      "name": "CS4774_Final_Project.ipynb",
      "provenance": [],
      "collapsed_sections": []
    }
  },
  "cells": [
    {
      "cell_type": "markdown",
      "metadata": {
        "id": "8sUuTu-9I1-c"
      },
      "source": [
        "# Data Cleaning & Preparation"
      ]
    },
    {
      "cell_type": "code",
      "metadata": {
        "id": "ql42XkEYI1-e"
      },
      "source": [
        "# Python ≥3.5 is required\n",
        "import sys\n",
        "assert sys.version_info >= (3, 5)\n",
        "\n",
        "# Scikit-Learn ≥0.20 is required\n",
        "import sklearn\n",
        "assert sklearn.__version__ >= \"0.20\"\n",
        "\n",
        "# Common imports\n",
        "import numpy as np\n",
        "import os\n",
        "\n",
        "# to make this notebook's output stable across runs\n",
        "np.random.seed(32)\n",
        "\n",
        "# To plot pretty figures\n",
        "%matplotlib inline\n",
        "import matplotlib as mpl\n",
        "import matplotlib.pyplot as plt\n",
        "mpl.rc('axes', labelsize=14)\n",
        "mpl.rc('xtick', labelsize=12)\n",
        "mpl.rc('ytick', labelsize=12)\n",
        "\n",
        "# Where to save the figures\n",
        "PROJECT_ROOT_DIR = \".\"\n",
        "CHAPTER_ID = \"classification\"\n",
        "IMAGES_PATH = os.path.join(PROJECT_ROOT_DIR, \"images\", CHAPTER_ID)\n",
        "os.makedirs(IMAGES_PATH, exist_ok=True)\n",
        "\n",
        "def save_fig(fig_id, tight_layout=True, fig_extension=\"png\", resolution=300):\n",
        "    path = os.path.join(IMAGES_PATH, fig_id + \".\" + fig_extension)\n",
        "    print(\"Saving figure\", fig_id)\n",
        "    if tight_layout:\n",
        "        plt.tight_layout()\n",
        "    plt.savefig(path, format=fig_extension, dpi=resolution)"
      ],
      "execution_count": null,
      "outputs": []
    },
    {
      "cell_type": "code",
      "metadata": {
        "id": "bliwg7LF2tgl"
      },
      "source": [
        "import os\n",
        "import numpy as np\n",
        "import matplotlib\n",
        "import matplotlib.pyplot as plt\n",
        "import pandas as pd\n",
        "from sklearn.model_selection import train_test_split\n",
        "from pandas.plotting import scatter_matrix # optional\n",
        "from sklearn.impute import SimpleImputer\n",
        "from sklearn.preprocessing import LabelEncoder\n",
        "from sklearn.preprocessing import OneHotEncoder\n",
        "from sklearn.pipeline import Pipeline\n",
        "from sklearn.preprocessing import StandardScaler\n",
        "from sklearn.compose import ColumnTransformer\n"
      ],
      "execution_count": null,
      "outputs": []
    },
    {
      "cell_type": "code",
      "metadata": {
        "colab": {
          "base_uri": "https://localhost:8080/",
          "height": 240
        },
        "id": "Ozlwb0x92KCH",
        "outputId": "8c4fe5a3-29aa-4528-bf0b-59474983c52e"
      },
      "source": [
        "# read in the data\n",
        "fetal = pd.read_csv(\"https://raw.githubusercontent.com/SamyDahman/MLData/main/fetal_health.csv\")\n",
        "fetal.head()"
      ],
      "execution_count": null,
      "outputs": [
        {
          "output_type": "execute_result",
          "data": {
            "text/html": [
              "<div>\n",
              "<style scoped>\n",
              "    .dataframe tbody tr th:only-of-type {\n",
              "        vertical-align: middle;\n",
              "    }\n",
              "\n",
              "    .dataframe tbody tr th {\n",
              "        vertical-align: top;\n",
              "    }\n",
              "\n",
              "    .dataframe thead th {\n",
              "        text-align: right;\n",
              "    }\n",
              "</style>\n",
              "<table border=\"1\" class=\"dataframe\">\n",
              "  <thead>\n",
              "    <tr style=\"text-align: right;\">\n",
              "      <th></th>\n",
              "      <th>baseline value</th>\n",
              "      <th>accelerations</th>\n",
              "      <th>fetal_movement</th>\n",
              "      <th>uterine_contractions</th>\n",
              "      <th>light_decelerations</th>\n",
              "      <th>severe_decelerations</th>\n",
              "      <th>prolongued_decelerations</th>\n",
              "      <th>abnormal_short_term_variability</th>\n",
              "      <th>mean_value_of_short_term_variability</th>\n",
              "      <th>percentage_of_time_with_abnormal_long_term_variability</th>\n",
              "      <th>mean_value_of_long_term_variability</th>\n",
              "      <th>histogram_width</th>\n",
              "      <th>histogram_min</th>\n",
              "      <th>histogram_max</th>\n",
              "      <th>histogram_number_of_peaks</th>\n",
              "      <th>histogram_number_of_zeroes</th>\n",
              "      <th>histogram_mode</th>\n",
              "      <th>histogram_mean</th>\n",
              "      <th>histogram_median</th>\n",
              "      <th>histogram_variance</th>\n",
              "      <th>histogram_tendency</th>\n",
              "      <th>fetal_health</th>\n",
              "    </tr>\n",
              "  </thead>\n",
              "  <tbody>\n",
              "    <tr>\n",
              "      <th>0</th>\n",
              "      <td>120.0</td>\n",
              "      <td>0.000</td>\n",
              "      <td>0.0</td>\n",
              "      <td>0.000</td>\n",
              "      <td>0.000</td>\n",
              "      <td>0.0</td>\n",
              "      <td>0.0</td>\n",
              "      <td>73.0</td>\n",
              "      <td>0.5</td>\n",
              "      <td>43.0</td>\n",
              "      <td>2.4</td>\n",
              "      <td>64.0</td>\n",
              "      <td>62.0</td>\n",
              "      <td>126.0</td>\n",
              "      <td>2.0</td>\n",
              "      <td>0.0</td>\n",
              "      <td>120.0</td>\n",
              "      <td>137.0</td>\n",
              "      <td>121.0</td>\n",
              "      <td>73.0</td>\n",
              "      <td>1.0</td>\n",
              "      <td>2.0</td>\n",
              "    </tr>\n",
              "    <tr>\n",
              "      <th>1</th>\n",
              "      <td>132.0</td>\n",
              "      <td>0.006</td>\n",
              "      <td>0.0</td>\n",
              "      <td>0.006</td>\n",
              "      <td>0.003</td>\n",
              "      <td>0.0</td>\n",
              "      <td>0.0</td>\n",
              "      <td>17.0</td>\n",
              "      <td>2.1</td>\n",
              "      <td>0.0</td>\n",
              "      <td>10.4</td>\n",
              "      <td>130.0</td>\n",
              "      <td>68.0</td>\n",
              "      <td>198.0</td>\n",
              "      <td>6.0</td>\n",
              "      <td>1.0</td>\n",
              "      <td>141.0</td>\n",
              "      <td>136.0</td>\n",
              "      <td>140.0</td>\n",
              "      <td>12.0</td>\n",
              "      <td>0.0</td>\n",
              "      <td>1.0</td>\n",
              "    </tr>\n",
              "    <tr>\n",
              "      <th>2</th>\n",
              "      <td>133.0</td>\n",
              "      <td>0.003</td>\n",
              "      <td>0.0</td>\n",
              "      <td>0.008</td>\n",
              "      <td>0.003</td>\n",
              "      <td>0.0</td>\n",
              "      <td>0.0</td>\n",
              "      <td>16.0</td>\n",
              "      <td>2.1</td>\n",
              "      <td>0.0</td>\n",
              "      <td>13.4</td>\n",
              "      <td>130.0</td>\n",
              "      <td>68.0</td>\n",
              "      <td>198.0</td>\n",
              "      <td>5.0</td>\n",
              "      <td>1.0</td>\n",
              "      <td>141.0</td>\n",
              "      <td>135.0</td>\n",
              "      <td>138.0</td>\n",
              "      <td>13.0</td>\n",
              "      <td>0.0</td>\n",
              "      <td>1.0</td>\n",
              "    </tr>\n",
              "    <tr>\n",
              "      <th>3</th>\n",
              "      <td>134.0</td>\n",
              "      <td>0.003</td>\n",
              "      <td>0.0</td>\n",
              "      <td>0.008</td>\n",
              "      <td>0.003</td>\n",
              "      <td>0.0</td>\n",
              "      <td>0.0</td>\n",
              "      <td>16.0</td>\n",
              "      <td>2.4</td>\n",
              "      <td>0.0</td>\n",
              "      <td>23.0</td>\n",
              "      <td>117.0</td>\n",
              "      <td>53.0</td>\n",
              "      <td>170.0</td>\n",
              "      <td>11.0</td>\n",
              "      <td>0.0</td>\n",
              "      <td>137.0</td>\n",
              "      <td>134.0</td>\n",
              "      <td>137.0</td>\n",
              "      <td>13.0</td>\n",
              "      <td>1.0</td>\n",
              "      <td>1.0</td>\n",
              "    </tr>\n",
              "    <tr>\n",
              "      <th>4</th>\n",
              "      <td>132.0</td>\n",
              "      <td>0.007</td>\n",
              "      <td>0.0</td>\n",
              "      <td>0.008</td>\n",
              "      <td>0.000</td>\n",
              "      <td>0.0</td>\n",
              "      <td>0.0</td>\n",
              "      <td>16.0</td>\n",
              "      <td>2.4</td>\n",
              "      <td>0.0</td>\n",
              "      <td>19.9</td>\n",
              "      <td>117.0</td>\n",
              "      <td>53.0</td>\n",
              "      <td>170.0</td>\n",
              "      <td>9.0</td>\n",
              "      <td>0.0</td>\n",
              "      <td>137.0</td>\n",
              "      <td>136.0</td>\n",
              "      <td>138.0</td>\n",
              "      <td>11.0</td>\n",
              "      <td>1.0</td>\n",
              "      <td>1.0</td>\n",
              "    </tr>\n",
              "  </tbody>\n",
              "</table>\n",
              "</div>"
            ],
            "text/plain": [
              "   baseline value  accelerations  ...  histogram_tendency  fetal_health\n",
              "0           120.0          0.000  ...                 1.0           2.0\n",
              "1           132.0          0.006  ...                 0.0           1.0\n",
              "2           133.0          0.003  ...                 0.0           1.0\n",
              "3           134.0          0.003  ...                 1.0           1.0\n",
              "4           132.0          0.007  ...                 1.0           1.0\n",
              "\n",
              "[5 rows x 22 columns]"
            ]
          },
          "metadata": {
            "tags": []
          },
          "execution_count": 3
        }
      ]
    },
    {
      "cell_type": "code",
      "metadata": {
        "colab": {
          "base_uri": "https://localhost:8080/"
        },
        "id": "8o87l4yT37bR",
        "outputId": "d1710b81-a2f9-4d1d-dcc0-5e46d1e3bd58"
      },
      "source": [
        "# view the info of the dataset\n",
        "fetal.info()"
      ],
      "execution_count": null,
      "outputs": [
        {
          "output_type": "stream",
          "text": [
            "<class 'pandas.core.frame.DataFrame'>\n",
            "RangeIndex: 2126 entries, 0 to 2125\n",
            "Data columns (total 22 columns):\n",
            " #   Column                                                  Non-Null Count  Dtype  \n",
            "---  ------                                                  --------------  -----  \n",
            " 0   baseline value                                          2126 non-null   float64\n",
            " 1   accelerations                                           2126 non-null   float64\n",
            " 2   fetal_movement                                          2126 non-null   float64\n",
            " 3   uterine_contractions                                    2126 non-null   float64\n",
            " 4   light_decelerations                                     2126 non-null   float64\n",
            " 5   severe_decelerations                                    2126 non-null   float64\n",
            " 6   prolongued_decelerations                                2126 non-null   float64\n",
            " 7   abnormal_short_term_variability                         2126 non-null   float64\n",
            " 8   mean_value_of_short_term_variability                    2126 non-null   float64\n",
            " 9   percentage_of_time_with_abnormal_long_term_variability  2126 non-null   float64\n",
            " 10  mean_value_of_long_term_variability                     2126 non-null   float64\n",
            " 11  histogram_width                                         2126 non-null   float64\n",
            " 12  histogram_min                                           2126 non-null   float64\n",
            " 13  histogram_max                                           2126 non-null   float64\n",
            " 14  histogram_number_of_peaks                               2126 non-null   float64\n",
            " 15  histogram_number_of_zeroes                              2126 non-null   float64\n",
            " 16  histogram_mode                                          2126 non-null   float64\n",
            " 17  histogram_mean                                          2126 non-null   float64\n",
            " 18  histogram_median                                        2126 non-null   float64\n",
            " 19  histogram_variance                                      2126 non-null   float64\n",
            " 20  histogram_tendency                                      2126 non-null   float64\n",
            " 21  fetal_health                                            2126 non-null   float64\n",
            "dtypes: float64(22)\n",
            "memory usage: 365.5 KB\n"
          ],
          "name": "stdout"
        }
      ]
    },
    {
      "cell_type": "code",
      "metadata": {
        "colab": {
          "base_uri": "https://localhost:8080/",
          "height": 333
        },
        "id": "74lohK2n3YIt",
        "outputId": "9eaf4124-a0ed-4a04-b276-6dacde0e52c4"
      },
      "source": [
        "# see the statistics of each feature\n",
        "fetal.describe()"
      ],
      "execution_count": null,
      "outputs": [
        {
          "output_type": "execute_result",
          "data": {
            "text/html": [
              "<div>\n",
              "<style scoped>\n",
              "    .dataframe tbody tr th:only-of-type {\n",
              "        vertical-align: middle;\n",
              "    }\n",
              "\n",
              "    .dataframe tbody tr th {\n",
              "        vertical-align: top;\n",
              "    }\n",
              "\n",
              "    .dataframe thead th {\n",
              "        text-align: right;\n",
              "    }\n",
              "</style>\n",
              "<table border=\"1\" class=\"dataframe\">\n",
              "  <thead>\n",
              "    <tr style=\"text-align: right;\">\n",
              "      <th></th>\n",
              "      <th>baseline value</th>\n",
              "      <th>accelerations</th>\n",
              "      <th>fetal_movement</th>\n",
              "      <th>uterine_contractions</th>\n",
              "      <th>light_decelerations</th>\n",
              "      <th>severe_decelerations</th>\n",
              "      <th>prolongued_decelerations</th>\n",
              "      <th>abnormal_short_term_variability</th>\n",
              "      <th>mean_value_of_short_term_variability</th>\n",
              "      <th>percentage_of_time_with_abnormal_long_term_variability</th>\n",
              "      <th>mean_value_of_long_term_variability</th>\n",
              "      <th>histogram_width</th>\n",
              "      <th>histogram_min</th>\n",
              "      <th>histogram_max</th>\n",
              "      <th>histogram_number_of_peaks</th>\n",
              "      <th>histogram_number_of_zeroes</th>\n",
              "      <th>histogram_mode</th>\n",
              "      <th>histogram_mean</th>\n",
              "      <th>histogram_median</th>\n",
              "      <th>histogram_variance</th>\n",
              "      <th>histogram_tendency</th>\n",
              "      <th>fetal_health</th>\n",
              "    </tr>\n",
              "  </thead>\n",
              "  <tbody>\n",
              "    <tr>\n",
              "      <th>count</th>\n",
              "      <td>2126.000000</td>\n",
              "      <td>2126.000000</td>\n",
              "      <td>2126.000000</td>\n",
              "      <td>2126.000000</td>\n",
              "      <td>2126.000000</td>\n",
              "      <td>2126.000000</td>\n",
              "      <td>2126.000000</td>\n",
              "      <td>2126.000000</td>\n",
              "      <td>2126.000000</td>\n",
              "      <td>2126.00000</td>\n",
              "      <td>2126.000000</td>\n",
              "      <td>2126.000000</td>\n",
              "      <td>2126.000000</td>\n",
              "      <td>2126.000000</td>\n",
              "      <td>2126.000000</td>\n",
              "      <td>2126.000000</td>\n",
              "      <td>2126.000000</td>\n",
              "      <td>2126.000000</td>\n",
              "      <td>2126.000000</td>\n",
              "      <td>2126.000000</td>\n",
              "      <td>2126.000000</td>\n",
              "      <td>2126.000000</td>\n",
              "    </tr>\n",
              "    <tr>\n",
              "      <th>mean</th>\n",
              "      <td>133.303857</td>\n",
              "      <td>0.003178</td>\n",
              "      <td>0.009481</td>\n",
              "      <td>0.004366</td>\n",
              "      <td>0.001889</td>\n",
              "      <td>0.000003</td>\n",
              "      <td>0.000159</td>\n",
              "      <td>46.990122</td>\n",
              "      <td>1.332785</td>\n",
              "      <td>9.84666</td>\n",
              "      <td>8.187629</td>\n",
              "      <td>70.445908</td>\n",
              "      <td>93.579492</td>\n",
              "      <td>164.025400</td>\n",
              "      <td>4.068203</td>\n",
              "      <td>0.323612</td>\n",
              "      <td>137.452023</td>\n",
              "      <td>134.610536</td>\n",
              "      <td>138.090310</td>\n",
              "      <td>18.808090</td>\n",
              "      <td>0.320320</td>\n",
              "      <td>1.304327</td>\n",
              "    </tr>\n",
              "    <tr>\n",
              "      <th>std</th>\n",
              "      <td>9.840844</td>\n",
              "      <td>0.003866</td>\n",
              "      <td>0.046666</td>\n",
              "      <td>0.002946</td>\n",
              "      <td>0.002960</td>\n",
              "      <td>0.000057</td>\n",
              "      <td>0.000590</td>\n",
              "      <td>17.192814</td>\n",
              "      <td>0.883241</td>\n",
              "      <td>18.39688</td>\n",
              "      <td>5.628247</td>\n",
              "      <td>38.955693</td>\n",
              "      <td>29.560212</td>\n",
              "      <td>17.944183</td>\n",
              "      <td>2.949386</td>\n",
              "      <td>0.706059</td>\n",
              "      <td>16.381289</td>\n",
              "      <td>15.593596</td>\n",
              "      <td>14.466589</td>\n",
              "      <td>28.977636</td>\n",
              "      <td>0.610829</td>\n",
              "      <td>0.614377</td>\n",
              "    </tr>\n",
              "    <tr>\n",
              "      <th>min</th>\n",
              "      <td>106.000000</td>\n",
              "      <td>0.000000</td>\n",
              "      <td>0.000000</td>\n",
              "      <td>0.000000</td>\n",
              "      <td>0.000000</td>\n",
              "      <td>0.000000</td>\n",
              "      <td>0.000000</td>\n",
              "      <td>12.000000</td>\n",
              "      <td>0.200000</td>\n",
              "      <td>0.00000</td>\n",
              "      <td>0.000000</td>\n",
              "      <td>3.000000</td>\n",
              "      <td>50.000000</td>\n",
              "      <td>122.000000</td>\n",
              "      <td>0.000000</td>\n",
              "      <td>0.000000</td>\n",
              "      <td>60.000000</td>\n",
              "      <td>73.000000</td>\n",
              "      <td>77.000000</td>\n",
              "      <td>0.000000</td>\n",
              "      <td>-1.000000</td>\n",
              "      <td>1.000000</td>\n",
              "    </tr>\n",
              "    <tr>\n",
              "      <th>25%</th>\n",
              "      <td>126.000000</td>\n",
              "      <td>0.000000</td>\n",
              "      <td>0.000000</td>\n",
              "      <td>0.002000</td>\n",
              "      <td>0.000000</td>\n",
              "      <td>0.000000</td>\n",
              "      <td>0.000000</td>\n",
              "      <td>32.000000</td>\n",
              "      <td>0.700000</td>\n",
              "      <td>0.00000</td>\n",
              "      <td>4.600000</td>\n",
              "      <td>37.000000</td>\n",
              "      <td>67.000000</td>\n",
              "      <td>152.000000</td>\n",
              "      <td>2.000000</td>\n",
              "      <td>0.000000</td>\n",
              "      <td>129.000000</td>\n",
              "      <td>125.000000</td>\n",
              "      <td>129.000000</td>\n",
              "      <td>2.000000</td>\n",
              "      <td>0.000000</td>\n",
              "      <td>1.000000</td>\n",
              "    </tr>\n",
              "    <tr>\n",
              "      <th>50%</th>\n",
              "      <td>133.000000</td>\n",
              "      <td>0.002000</td>\n",
              "      <td>0.000000</td>\n",
              "      <td>0.004000</td>\n",
              "      <td>0.000000</td>\n",
              "      <td>0.000000</td>\n",
              "      <td>0.000000</td>\n",
              "      <td>49.000000</td>\n",
              "      <td>1.200000</td>\n",
              "      <td>0.00000</td>\n",
              "      <td>7.400000</td>\n",
              "      <td>67.500000</td>\n",
              "      <td>93.000000</td>\n",
              "      <td>162.000000</td>\n",
              "      <td>3.000000</td>\n",
              "      <td>0.000000</td>\n",
              "      <td>139.000000</td>\n",
              "      <td>136.000000</td>\n",
              "      <td>139.000000</td>\n",
              "      <td>7.000000</td>\n",
              "      <td>0.000000</td>\n",
              "      <td>1.000000</td>\n",
              "    </tr>\n",
              "    <tr>\n",
              "      <th>75%</th>\n",
              "      <td>140.000000</td>\n",
              "      <td>0.006000</td>\n",
              "      <td>0.003000</td>\n",
              "      <td>0.007000</td>\n",
              "      <td>0.003000</td>\n",
              "      <td>0.000000</td>\n",
              "      <td>0.000000</td>\n",
              "      <td>61.000000</td>\n",
              "      <td>1.700000</td>\n",
              "      <td>11.00000</td>\n",
              "      <td>10.800000</td>\n",
              "      <td>100.000000</td>\n",
              "      <td>120.000000</td>\n",
              "      <td>174.000000</td>\n",
              "      <td>6.000000</td>\n",
              "      <td>0.000000</td>\n",
              "      <td>148.000000</td>\n",
              "      <td>145.000000</td>\n",
              "      <td>148.000000</td>\n",
              "      <td>24.000000</td>\n",
              "      <td>1.000000</td>\n",
              "      <td>1.000000</td>\n",
              "    </tr>\n",
              "    <tr>\n",
              "      <th>max</th>\n",
              "      <td>160.000000</td>\n",
              "      <td>0.019000</td>\n",
              "      <td>0.481000</td>\n",
              "      <td>0.015000</td>\n",
              "      <td>0.015000</td>\n",
              "      <td>0.001000</td>\n",
              "      <td>0.005000</td>\n",
              "      <td>87.000000</td>\n",
              "      <td>7.000000</td>\n",
              "      <td>91.00000</td>\n",
              "      <td>50.700000</td>\n",
              "      <td>180.000000</td>\n",
              "      <td>159.000000</td>\n",
              "      <td>238.000000</td>\n",
              "      <td>18.000000</td>\n",
              "      <td>10.000000</td>\n",
              "      <td>187.000000</td>\n",
              "      <td>182.000000</td>\n",
              "      <td>186.000000</td>\n",
              "      <td>269.000000</td>\n",
              "      <td>1.000000</td>\n",
              "      <td>3.000000</td>\n",
              "    </tr>\n",
              "  </tbody>\n",
              "</table>\n",
              "</div>"
            ],
            "text/plain": [
              "       baseline value  accelerations  ...  histogram_tendency  fetal_health\n",
              "count     2126.000000    2126.000000  ...         2126.000000   2126.000000\n",
              "mean       133.303857       0.003178  ...            0.320320      1.304327\n",
              "std          9.840844       0.003866  ...            0.610829      0.614377\n",
              "min        106.000000       0.000000  ...           -1.000000      1.000000\n",
              "25%        126.000000       0.000000  ...            0.000000      1.000000\n",
              "50%        133.000000       0.002000  ...            0.000000      1.000000\n",
              "75%        140.000000       0.006000  ...            1.000000      1.000000\n",
              "max        160.000000       0.019000  ...            1.000000      3.000000\n",
              "\n",
              "[8 rows x 22 columns]"
            ]
          },
          "metadata": {
            "tags": []
          },
          "execution_count": 5
        }
      ]
    },
    {
      "cell_type": "code",
      "metadata": {
        "colab": {
          "base_uri": "https://localhost:8080/",
          "height": 641
        },
        "id": "GV9D-BHR7_C3",
        "outputId": "739505e8-4c8c-4904-dea4-5cba6f358b16"
      },
      "source": [
        "%matplotlib inline\n",
        "import matplotlib.pyplot as plt\n",
        "fetal.hist(bins=50, figsize=(20,15))\n",
        "plt.show()"
      ],
      "execution_count": null,
      "outputs": [
        {
          "output_type": "display_data",
          "data": {
            "image/png": "[encoded data removed]",
            "text/plain": [
              "<Figure size 1440x1080 with 25 Axes>"
            ]
          },
          "metadata": {
            "tags": [],
            "needs_background": "light"
          }
        }
      ]
    },
    {
      "cell_type": "code",
      "metadata": {
        "colab": {
          "base_uri": "https://localhost:8080/"
        },
        "id": "Nr18lZxhwiQO",
        "outputId": "2e46bff4-dd51-435b-8be6-76bd3dc6bbf2"
      },
      "source": [
        "asdf = fetal.copy()\n",
        "helthybois = asdf[\"fetal_health\"]\n",
        "acc = len(helthybois[helthybois==1])/len(helthybois)\n",
        "print(acc)\n"
      ],
      "execution_count": null,
      "outputs": [
        {
          "output_type": "stream",
          "text": [
            "0.7784571966133584\n"
          ],
          "name": "stdout"
        }
      ]
    },
    {
      "cell_type": "code",
      "metadata": {
        "colab": {
          "base_uri": "https://localhost:8080/"
        },
        "id": "kHY8SHSm20fx",
        "outputId": "46eb4a41-cc54-4e03-cd85-454653cbca2d"
      },
      "source": [
        "# split into training and testing dataset\n",
        "train_set, test_set = train_test_split(fetal, test_size=0.2, random_state=42)\n",
        "print(train_set.shape )\n",
        "print(test_set.shape )"
      ],
      "execution_count": null,
      "outputs": [
        {
          "output_type": "stream",
          "text": [
            "(1700, 22)\n",
            "(426, 22)\n"
          ],
          "name": "stdout"
        }
      ]
    },
    {
      "cell_type": "code",
      "metadata": {
        "id": "edhjYiYm4_fd"
      },
      "source": [
        "train_label = train_set['fetal_health'].copy()\n",
        "train_set = train_set.drop([\"fetal_health\"], axis=1)\n",
        "test_label = test_set['fetal_health'].copy()\n",
        "test_set = test_set.drop([\"fetal_health\"], axis=1)"
      ],
      "execution_count": null,
      "outputs": []
    },
    {
      "cell_type": "code",
      "metadata": {
        "id": "Rs4RkEkf3GGs"
      },
      "source": [
        "# pipeline for transforming the numeric variables\n",
        "num_pipeline = Pipeline([\n",
        "        ('imputer', SimpleImputer(strategy=\"median\")),\n",
        "        ('std_scaler', StandardScaler()),\n",
        "    ])"
      ],
      "execution_count": null,
      "outputs": []
    },
    {
      "cell_type": "code",
      "metadata": {
        "id": "lThZneAM4QXJ"
      },
      "source": [
        "# pipeline for transforming the entire dataset\n",
        "# in this case, we only have numeric variables in our dataset.\n",
        "\n",
        "num_attribs = list(train_set)\n",
        "\n",
        "full_pipeline = ColumnTransformer([\n",
        "        (\"num\", num_pipeline, num_attribs),\n",
        "    ])\n"
      ],
      "execution_count": null,
      "outputs": []
    },
    {
      "cell_type": "code",
      "metadata": {
        "colab": {
          "base_uri": "https://localhost:8080/"
        },
        "id": "Zdte51_m4qJ_",
        "outputId": "888e75c5-4574-4031-b000-94752a6a45d2"
      },
      "source": [
        "# transform the train_set and test_set\n",
        "train_prepared = full_pipeline.fit_transform(train_set)\n",
        "test_prepared = full_pipeline.transform(test_set)\n",
        "print(train_prepared.shape)\n",
        "print(test_prepared.shape)"
      ],
      "execution_count": null,
      "outputs": [
        {
          "output_type": "stream",
          "text": [
            "(1700, 21)\n",
            "(426, 21)\n"
          ],
          "name": "stdout"
        }
      ]
    },
    {
      "cell_type": "code",
      "metadata": {
        "id": "-LlU9nes9IE1"
      },
      "source": [
        "# train_prepared --> training set features\n",
        "# train_label --> training set labels\n",
        "# test_prepared\n",
        "# test_label"
      ],
      "execution_count": null,
      "outputs": []
    },
    {
      "cell_type": "markdown",
      "metadata": {
        "id": "N8_h2CHj9RZu"
      },
      "source": [
        "# Classification\n"
      ]
    },
    {
      "cell_type": "markdown",
      "metadata": {
        "id": "w9SsKXdR7Dhj"
      },
      "source": [
        "**We'll start by trying the ensemble learning model for classification:** \n",
        "> This model will use several different classifiers and allow them to vote in order to classify an entry. Our classifiers will be Random Forest Classifier, Support Vector Machine, and Logistic Regression. \n",
        "\n",
        "\n"
      ]
    },
    {
      "cell_type": "code",
      "metadata": {
        "id": "7FLSllXm9Unh"
      },
      "source": [
        "# We make the appropriate imports\n",
        "from sklearn.ensemble import RandomForestClassifier\n",
        "from sklearn.ensemble import VotingClassifier\n",
        "from sklearn.linear_model import LogisticRegression\n",
        "from sklearn.svm import SVC\n",
        "\n",
        "# We are creating the model for each classifier\n",
        "log_clf = LogisticRegression(solver=\"lbfgs\", random_state=32)\n",
        "rnd_clf = RandomForestClassifier(n_estimators=100, random_state=32)\n",
        "svm_clf = SVC(gamma=\"scale\", probability=True, random_state=32)\n",
        "\n",
        "# We are creating the ensemble classifier that uses all the above classifiers\n",
        "voting_clf = VotingClassifier(\n",
        "    estimators=[('lr', log_clf), ('rf', rnd_clf), ('svc', svm_clf)],\n",
        "    voting='soft')\n"
      ],
      "execution_count": null,
      "outputs": []
    },
    {
      "cell_type": "markdown",
      "metadata": {
        "id": "HSomeEKEW9f1"
      },
      "source": [
        "In this next section, we are looking at the accuracy on predictions of each classifier individually and the ensemble classifier. So we begin by defining a function to report scoring metrics."
      ]
    },
    {
      "cell_type": "code",
      "metadata": {
        "id": "X14hKBUGb47Z"
      },
      "source": [
        "from sklearn.metrics import confusion_matrix, f1_score\n",
        "import numpy as np\n",
        "\n",
        "def clf_scores(y_actual, y_predict):\n",
        "  conf = confusion_matrix(y_actual, y_predict) # get confusion matrix\n",
        "  print(\"Confusion Matrix:\\n\", conf)\n",
        "  recall = np.diagonal(conf) / (np.sum(conf,axis=1)) # recall of each class\n",
        "  precision = np.diagonal(conf) / (np.sum(conf,axis=0)) # precision of each class\n",
        "  f1 = 2*recall*precision / (precision + recall) \n",
        "  print(\"Precision:\\n\", precision, \"\\nRecall:\\n\", recall, \"\\nF1 Score:\\n\", f1, \"\\n\")\n",
        "  return conf, recall, precision, f1"
      ],
      "execution_count": null,
      "outputs": []
    },
    {
      "cell_type": "code",
      "metadata": {
        "colab": {
          "base_uri": "https://localhost:8080/"
        },
        "id": "RKGIkttA7281",
        "outputId": "7067b8ba-a19d-4edd-ff16-ee3ed20aac6a"
      },
      "source": [
        "from sklearn.metrics import accuracy_score\n",
        "\n",
        "# Train each model\n",
        "print(\"Scoring Metrics for each Model:\\n\")\n",
        "for clf in (log_clf, rnd_clf, svm_clf, voting_clf):\n",
        "    clf.fit(train_prepared, train_label)\n",
        "    y_pred = clf.predict(test_prepared)\n",
        "    print(clf.__class__.__name__, accuracy_score(test_label, y_pred))\n",
        "    clf_scores(test_label, y_pred)"
      ],
      "execution_count": null,
      "outputs": [
        {
          "output_type": "stream",
          "text": [
            "Scoring Metrics for each Model:\n",
            "\n",
            "LogisticRegression 0.8779342723004695\n",
            "Confusion Matrix:\n",
            " [[311  19   3]\n",
            " [ 18  41   5]\n",
            " [  2   5  22]]\n",
            "Precision:\n",
            " [0.93957704 0.63076923 0.73333333] \n",
            "Recall:\n",
            " [0.93393393 0.640625   0.75862069] \n",
            "F1 Score:\n",
            " [0.93674699 0.63565891 0.74576271] \n",
            "\n",
            "RandomForestClassifier 0.9507042253521126\n",
            "Confusion Matrix:\n",
            " [[327   5   1]\n",
            " [ 10  52   2]\n",
            " [  1   2  26]]\n",
            "Precision:\n",
            " [0.96745562 0.88135593 0.89655172] \n",
            "Recall:\n",
            " [0.98198198 0.8125     0.89655172] \n",
            "F1 Score:\n",
            " [0.97466468 0.84552846 0.89655172] \n",
            "\n",
            "SVC 0.903755868544601\n",
            "Confusion Matrix:\n",
            " [[317  15   1]\n",
            " [ 17  46   1]\n",
            " [  2   5  22]]\n",
            "Precision:\n",
            " [0.94345238 0.6969697  0.91666667] \n",
            "Recall:\n",
            " [0.95195195 0.71875    0.75862069] \n",
            "F1 Score:\n",
            " [0.94768311 0.70769231 0.83018868] \n",
            "\n",
            "VotingClassifier 0.9272300469483568\n",
            "Confusion Matrix:\n",
            " [[322  11   0]\n",
            " [ 13  49   2]\n",
            " [  1   4  24]]\n",
            "Precision:\n",
            " [0.95833333 0.765625   0.92307692] \n",
            "Recall:\n",
            " [0.96696697 0.765625   0.82758621] \n",
            "F1 Score:\n",
            " [0.96263079 0.765625   0.87272727] \n",
            "\n"
          ],
          "name": "stdout"
        }
      ]
    },
    {
      "cell_type": "markdown",
      "metadata": {
        "id": "YxOuERavXIIR"
      },
      "source": [
        "We observe that the individual Random Forest Classifier is better than every other model as well as the Voting Classifier"
      ]
    },
    {
      "cell_type": "markdown",
      "metadata": {
        "id": "yqtwGNOBC3ex"
      },
      "source": [
        "**Now we will try another powerful method: AdaBoosting**"
      ]
    },
    {
      "cell_type": "code",
      "metadata": {
        "colab": {
          "base_uri": "https://localhost:8080/"
        },
        "id": "Znk3Dc_OC2qb",
        "outputId": "967cb95f-eb6c-4089-d661-743aedfe0f9c"
      },
      "source": [
        "from sklearn.ensemble import AdaBoostClassifier\n",
        "from sklearn.tree import DecisionTreeClassifier\n",
        "# We create the AdaBoost Classifier using Decision Tree\n",
        "ada_clf = AdaBoostClassifier(\n",
        "    DecisionTreeClassifier(max_depth=1), n_estimators=200,\n",
        "    algorithm=\"SAMME.R\", learning_rate=0.5, random_state=32)\n",
        "\n",
        "# Train on the data\n",
        "ada_clf.fit(train_prepared, train_label)"
      ],
      "execution_count": null,
      "outputs": [
        {
          "output_type": "execute_result",
          "data": {
            "text/plain": [
              "AdaBoostClassifier(algorithm='SAMME.R',\n",
              "                   base_estimator=DecisionTreeClassifier(ccp_alpha=0.0,\n",
              "                                                         class_weight=None,\n",
              "                                                         criterion='gini',\n",
              "                                                         max_depth=1,\n",
              "                                                         max_features=None,\n",
              "                                                         max_leaf_nodes=None,\n",
              "                                                         min_impurity_decrease=0.0,\n",
              "                                                         min_impurity_split=None,\n",
              "                                                         min_samples_leaf=1,\n",
              "                                                         min_samples_split=2,\n",
              "                                                         min_weight_fraction_leaf=0.0,\n",
              "                                                         presort='deprecated',\n",
              "                                                         random_state=None,\n",
              "                                                         splitter='best'),\n",
              "                   learning_rate=0.5, n_estimators=200, random_state=32)"
            ]
          },
          "metadata": {
            "tags": []
          },
          "execution_count": 21
        }
      ]
    },
    {
      "cell_type": "code",
      "metadata": {
        "colab": {
          "base_uri": "https://localhost:8080/"
        },
        "id": "bP3o4Nhd8ULI",
        "outputId": "9a2b2f41-0dcf-4b76-ce58-63138d7e7cb7"
      },
      "source": [
        "# Looking at accuracy of model\n",
        "y_pred = ada_clf.predict(test_prepared)\n",
        "print(\"Accuracy of Decision Tree Boosting: \" + str(accuracy_score(test_label, y_pred)))\n",
        "clf_scores(test_label, y_pred);"
      ],
      "execution_count": null,
      "outputs": [
        {
          "output_type": "stream",
          "text": [
            "Accuracy of Decision Tree Boosting: 0.9061032863849765\n",
            "Confusion Matrix:\n",
            " [[319  13   1]\n",
            " [ 17  46   1]\n",
            " [  8   0  21]]\n",
            "Precision:\n",
            " [0.92732558 0.77966102 0.91304348] \n",
            "Recall:\n",
            " [0.95795796 0.71875    0.72413793] \n",
            "F1 Score:\n",
            " [0.94239291 0.74796748 0.80769231] \n",
            "\n"
          ],
          "name": "stdout"
        }
      ]
    },
    {
      "cell_type": "markdown",
      "metadata": {
        "id": "RYwceC5zUq2U"
      },
      "source": [
        "**It seems that singular Random-Forest Classifier outperforms all the other models. We will proceed with it and further optimize.**"
      ]
    },
    {
      "cell_type": "markdown",
      "metadata": {
        "id": "Jacol7XOWBuh"
      },
      "source": [
        "# Optimization"
      ]
    },
    {
      "cell_type": "markdown",
      "metadata": {
        "id": "fLSUEzyi3Nve"
      },
      "source": [
        "##New Scoring Function for Optimization."
      ]
    },
    {
      "cell_type": "markdown",
      "metadata": {
        "id": "rmOUmLBhBtjs"
      },
      "source": [
        "We begin by creating our own loss function for grid search to look for. Finding the best model is dependent on how \"best\" is defined. As our project concerns medical health, we insist that the recall must be high so that if fetal health is poor, it will not go undetected. We do not want any false negatives on the poor health classifiers. At the same time, however, we cannot let precision drop too low, so we define our new scoring function to be similar to the F1 score, but with more weight given to recall. The F1 formula is f1 = 2 / ( 1/p + 1/r ) for precision p and recall r. We define our unique scoring function:\\\n",
        "f2 = ( 1 + a ) / ( 1/p + a*1/r ) \\\n",
        "which is the same as the f1 metric but with weight \"a\" applied to the recall term, so that recall will be made more important than precision for a > 1. Additionally, the precision and recall used in these formulas can be a weighted average of the recalls for each class, with more weight given to the unhealthy class.The f2 score will always be between 0 and 1 if the weight vector is normalized such that the components sum to 1."
      ]
    },
    {
      "cell_type": "code",
      "metadata": {
        "id": "fo107HdQoUp6"
      },
      "source": [
        "from sklearn.metrics import make_scorer\n",
        "\n",
        "def f2(y, y_pred, **kwargs):\n",
        "  a = 2 # adjust this for recall weight\n",
        "  weights = np.array([1,1,2]) # adjust this for recall weight on each class\n",
        "  weights = weights / np.sum(weights) # normalize weights; weights for direction, a for magnitude\n",
        "\n",
        "  conf = confusion_matrix(y, y_pred) # get confusion matrix\n",
        "  recall = np.diagonal(conf) / (np.sum(conf,axis=1)) # recall scores for each class\n",
        "  precision = np.diagonal(conf) / (np.sum(conf,axis=0)) # precision scores for each class\n",
        "\n",
        "  r = np.dot(weights, recall)  # weighted recall average\n",
        "  p = np.mean(precision) # precision average\n",
        "  f2 = ( 1 + a ) / ( 1/p + a*1/r ) # f2 formula\n",
        "  return f2\n",
        "\n",
        "f2_score = make_scorer(f2, greater_is_better=True)\n"
      ],
      "execution_count": null,
      "outputs": []
    },
    {
      "cell_type": "markdown",
      "metadata": {
        "id": "9eMS7vlB3aUQ"
      },
      "source": [
        "##Random and Grid Searching Hyperparameters."
      ]
    },
    {
      "cell_type": "code",
      "metadata": {
        "id": "f0UwwXy0ptjk"
      },
      "source": [
        "from sklearn.model_selection import RandomizedSearchCV\n",
        "from scipy.stats import randint, uniform\n",
        "\n",
        "forest_clf = RandomForestClassifier(random_state=32)\n",
        "\n",
        "param_dist = {'n_estimators': randint(1,1000),\n",
        "              'min_samples_split': randint(2,10),\n",
        "              'max_depth': randint(1,250),\n",
        "              'min_samples_leaf': randint(1,10),\n",
        "              'max_features': randint(1,22),\n",
        "              'max_leaf_nodes': randint(2,500)\n",
        "              }\n",
        "n_iter_search = 100\n",
        "\n",
        "random_search = RandomizedSearchCV(forest_clf, param_distributions=param_dist,\n",
        "                                   n_iter=n_iter_search, scoring=f2_score)\n",
        "\n",
        "random_search.fit(train_prepared, train_label)\n",
        "\n",
        "cvres = random_search.cv_results_\n",
        "for mean_score, params in zip(cvres[\"mean_test_score\"], cvres[\"params\"]):\n",
        "  print(mean_score, params)\n",
        "\n",
        "print(\"Best: \", random_search.best_params_)\n"
      ],
      "execution_count": null,
      "outputs": []
    },
    {
      "cell_type": "code",
      "metadata": {
        "colab": {
          "background_save": true
        },
        "id": "yYfIS2uMwmWz",
        "outputId": "6c78a15a-8142-4f08-b9c1-f8dcacfe85ec"
      },
      "source": [
        "from sklearn.model_selection import GridSearchCV\n",
        "forest_clf = RandomForestClassifier(random_state=32)\n",
        "\n",
        "param_grid = {'n_estimators': range(200, 350, 25),\n",
        "              'min_samples_split': range(3,12,3),\n",
        "              'max_depth': range(80,120,20),\n",
        "              'min_samples_leaf': range(1,3),\n",
        "              'max_features': range(6,16,2),\n",
        "              'max_leaf_nodes': range(100,200,50)\n",
        "              }\n",
        "\n",
        "grid_search = GridSearchCV(forest_clf, param_grid, cv=5, \n",
        "                           scoring = f2_score, return_train_score=True)\n",
        "\n",
        "grid_search.fit(train_prepared, train_label)\n",
        "\n",
        "cvres = grid_search.cv_results_\n",
        "for mean_score, params in zip(cvres[\"mean_test_score\"], cvres[\"params\"]):\n",
        "  if mean_score > 1.2:\n",
        "    print(mean_score, params)\n",
        "\n",
        "print(\"Best Parameters: \", grid_search.best_params_)"
      ],
      "execution_count": null,
      "outputs": [
        {
          "output_type": "stream",
          "text": [
            "1.204135820272366 {'max_depth': 80, 'max_features': 6, 'max_leaf_nodes': 100, 'min_samples_leaf': 1, 'min_samples_split': 3, 'n_estimators': 200}\n",
            "1.2034224753253544 {'max_depth': 80, 'max_features': 6, 'max_leaf_nodes': 100, 'min_samples_leaf': 1, 'min_samples_split': 3, 'n_estimators': 225}\n",
            "1.203743054220356 {'max_depth': 80, 'max_features': 6, 'max_leaf_nodes': 100, 'min_samples_leaf': 1, 'min_samples_split': 3, 'n_estimators': 250}\n",
            "1.2057311577073557 {'max_depth': 80, 'max_features': 6, 'max_leaf_nodes': 100, 'min_samples_leaf': 1, 'min_samples_split': 3, 'n_estimators': 275}\n",
            "1.2049631796622875 {'max_depth': 80, 'max_features': 6, 'max_leaf_nodes': 100, 'min_samples_leaf': 1, 'min_samples_split': 3, 'n_estimators': 300}\n",
            "1.2057897844075849 {'max_depth': 80, 'max_features': 6, 'max_leaf_nodes': 100, 'min_samples_leaf': 1, 'min_samples_split': 3, 'n_estimators': 325}\n",
            "1.201308736286034 {'max_depth': 80, 'max_features': 6, 'max_leaf_nodes': 100, 'min_samples_leaf': 1, 'min_samples_split': 6, 'n_estimators': 200}\n",
            "1.2016126650058656 {'max_depth': 80, 'max_features': 6, 'max_leaf_nodes': 100, 'min_samples_leaf': 1, 'min_samples_split': 6, 'n_estimators': 225}\n",
            "1.2034272416775926 {'max_depth': 80, 'max_features': 6, 'max_leaf_nodes': 100, 'min_samples_leaf': 1, 'min_samples_split': 6, 'n_estimators': 250}\n",
            "1.2049130685470435 {'max_depth': 80, 'max_features': 6, 'max_leaf_nodes': 100, 'min_samples_leaf': 1, 'min_samples_split': 6, 'n_estimators': 275}\n",
            "1.2049130685470435 {'max_depth': 80, 'max_features': 6, 'max_leaf_nodes': 100, 'min_samples_leaf': 1, 'min_samples_split': 6, 'n_estimators': 300}\n",
            "1.2059696270263967 {'max_depth': 80, 'max_features': 6, 'max_leaf_nodes': 100, 'min_samples_leaf': 1, 'min_samples_split': 6, 'n_estimators': 325}\n",
            "1.2020459697457282 {'max_depth': 80, 'max_features': 6, 'max_leaf_nodes': 100, 'min_samples_leaf': 1, 'min_samples_split': 9, 'n_estimators': 225}\n",
            "1.2039925116969894 {'max_depth': 80, 'max_features': 6, 'max_leaf_nodes': 100, 'min_samples_leaf': 1, 'min_samples_split': 9, 'n_estimators': 250}\n",
            "1.2077512226952272 {'max_depth': 80, 'max_features': 6, 'max_leaf_nodes': 100, 'min_samples_leaf': 1, 'min_samples_split': 9, 'n_estimators': 275}\n",
            "1.2047050872317737 {'max_depth': 80, 'max_features': 6, 'max_leaf_nodes': 100, 'min_samples_leaf': 1, 'min_samples_split': 9, 'n_estimators': 300}\n",
            "1.2068980385787176 {'max_depth': 80, 'max_features': 6, 'max_leaf_nodes': 100, 'min_samples_leaf': 1, 'min_samples_split': 9, 'n_estimators': 325}\n",
            "1.2042237162712168 {'max_depth': 80, 'max_features': 6, 'max_leaf_nodes': 100, 'min_samples_leaf': 2, 'min_samples_split': 3, 'n_estimators': 200}\n",
            "1.202285686503364 {'max_depth': 80, 'max_features': 6, 'max_leaf_nodes': 100, 'min_samples_leaf': 2, 'min_samples_split': 3, 'n_estimators': 225}\n",
            "1.2026025998110437 {'max_depth': 80, 'max_features': 6, 'max_leaf_nodes': 100, 'min_samples_leaf': 2, 'min_samples_split': 3, 'n_estimators': 250}\n",
            "1.202348847164882 {'max_depth': 80, 'max_features': 6, 'max_leaf_nodes': 100, 'min_samples_leaf': 2, 'min_samples_split': 3, 'n_estimators': 275}\n",
            "1.2034934449953367 {'max_depth': 80, 'max_features': 6, 'max_leaf_nodes': 100, 'min_samples_leaf': 2, 'min_samples_split': 3, 'n_estimators': 300}\n",
            "1.2034934449953367 {'max_depth': 80, 'max_features': 6, 'max_leaf_nodes': 100, 'min_samples_leaf': 2, 'min_samples_split': 3, 'n_estimators': 325}\n",
            "1.2000002466041169 {'max_depth': 80, 'max_features': 6, 'max_leaf_nodes': 100, 'min_samples_leaf': 2, 'min_samples_split': 6, 'n_estimators': 200}\n",
            "1.2041488492601498 {'max_depth': 80, 'max_features': 6, 'max_leaf_nodes': 100, 'min_samples_leaf': 2, 'min_samples_split': 6, 'n_estimators': 225}\n",
            "1.2020133374254007 {'max_depth': 80, 'max_features': 6, 'max_leaf_nodes': 100, 'min_samples_leaf': 2, 'min_samples_split': 6, 'n_estimators': 250}\n",
            "1.2045844059835646 {'max_depth': 80, 'max_features': 6, 'max_leaf_nodes': 100, 'min_samples_leaf': 2, 'min_samples_split': 6, 'n_estimators': 275}\n",
            "1.2056059973378253 {'max_depth': 80, 'max_features': 6, 'max_leaf_nodes': 100, 'min_samples_leaf': 2, 'min_samples_split': 6, 'n_estimators': 300}\n",
            "1.2048253370169113 {'max_depth': 80, 'max_features': 6, 'max_leaf_nodes': 100, 'min_samples_leaf': 2, 'min_samples_split': 6, 'n_estimators': 325}\n",
            "1.2021811951465171 {'max_depth': 80, 'max_features': 6, 'max_leaf_nodes': 100, 'min_samples_leaf': 2, 'min_samples_split': 9, 'n_estimators': 200}\n",
            "1.2036001858138943 {'max_depth': 80, 'max_features': 6, 'max_leaf_nodes': 100, 'min_samples_leaf': 2, 'min_samples_split': 9, 'n_estimators': 225}\n",
            "1.2007018192208867 {'max_depth': 80, 'max_features': 6, 'max_leaf_nodes': 100, 'min_samples_leaf': 2, 'min_samples_split': 9, 'n_estimators': 250}\n",
            "1.2048253370169113 {'max_depth': 80, 'max_features': 6, 'max_leaf_nodes': 100, 'min_samples_leaf': 2, 'min_samples_split': 9, 'n_estimators': 275}\n",
            "1.2048253370169113 {'max_depth': 80, 'max_features': 6, 'max_leaf_nodes': 100, 'min_samples_leaf': 2, 'min_samples_split': 9, 'n_estimators': 300}\n",
            "1.2049168266305899 {'max_depth': 80, 'max_features': 6, 'max_leaf_nodes': 100, 'min_samples_leaf': 2, 'min_samples_split': 9, 'n_estimators': 325}\n",
            "1.204135820272366 {'max_depth': 80, 'max_features': 6, 'max_leaf_nodes': 150, 'min_samples_leaf': 1, 'min_samples_split': 3, 'n_estimators': 200}\n",
            "1.2034224753253544 {'max_depth': 80, 'max_features': 6, 'max_leaf_nodes': 150, 'min_samples_leaf': 1, 'min_samples_split': 3, 'n_estimators': 225}\n",
            "1.203743054220356 {'max_depth': 80, 'max_features': 6, 'max_leaf_nodes': 150, 'min_samples_leaf': 1, 'min_samples_split': 3, 'n_estimators': 250}\n",
            "1.2057311577073557 {'max_depth': 80, 'max_features': 6, 'max_leaf_nodes': 150, 'min_samples_leaf': 1, 'min_samples_split': 3, 'n_estimators': 275}\n",
            "1.2049631796622875 {'max_depth': 80, 'max_features': 6, 'max_leaf_nodes': 150, 'min_samples_leaf': 1, 'min_samples_split': 3, 'n_estimators': 300}\n",
            "1.2057897844075849 {'max_depth': 80, 'max_features': 6, 'max_leaf_nodes': 150, 'min_samples_leaf': 1, 'min_samples_split': 3, 'n_estimators': 325}\n",
            "1.201308736286034 {'max_depth': 80, 'max_features': 6, 'max_leaf_nodes': 150, 'min_samples_leaf': 1, 'min_samples_split': 6, 'n_estimators': 200}\n",
            "1.2016126650058656 {'max_depth': 80, 'max_features': 6, 'max_leaf_nodes': 150, 'min_samples_leaf': 1, 'min_samples_split': 6, 'n_estimators': 225}\n",
            "1.2034272416775926 {'max_depth': 80, 'max_features': 6, 'max_leaf_nodes': 150, 'min_samples_leaf': 1, 'min_samples_split': 6, 'n_estimators': 250}\n",
            "1.2049130685470435 {'max_depth': 80, 'max_features': 6, 'max_leaf_nodes': 150, 'min_samples_leaf': 1, 'min_samples_split': 6, 'n_estimators': 275}\n",
            "1.2049130685470435 {'max_depth': 80, 'max_features': 6, 'max_leaf_nodes': 150, 'min_samples_leaf': 1, 'min_samples_split': 6, 'n_estimators': 300}\n",
            "1.2059696270263967 {'max_depth': 80, 'max_features': 6, 'max_leaf_nodes': 150, 'min_samples_leaf': 1, 'min_samples_split': 6, 'n_estimators': 325}\n",
            "1.2020459697457282 {'max_depth': 80, 'max_features': 6, 'max_leaf_nodes': 150, 'min_samples_leaf': 1, 'min_samples_split': 9, 'n_estimators': 225}\n",
            "1.2039925116969894 {'max_depth': 80, 'max_features': 6, 'max_leaf_nodes': 150, 'min_samples_leaf': 1, 'min_samples_split': 9, 'n_estimators': 250}\n",
            "1.2077512226952272 {'max_depth': 80, 'max_features': 6, 'max_leaf_nodes': 150, 'min_samples_leaf': 1, 'min_samples_split': 9, 'n_estimators': 275}\n",
            "1.2047050872317737 {'max_depth': 80, 'max_features': 6, 'max_leaf_nodes': 150, 'min_samples_leaf': 1, 'min_samples_split': 9, 'n_estimators': 300}\n",
            "1.2068980385787176 {'max_depth': 80, 'max_features': 6, 'max_leaf_nodes': 150, 'min_samples_leaf': 1, 'min_samples_split': 9, 'n_estimators': 325}\n",
            "1.2042237162712168 {'max_depth': 80, 'max_features': 6, 'max_leaf_nodes': 150, 'min_samples_leaf': 2, 'min_samples_split': 3, 'n_estimators': 200}\n",
            "1.202285686503364 {'max_depth': 80, 'max_features': 6, 'max_leaf_nodes': 150, 'min_samples_leaf': 2, 'min_samples_split': 3, 'n_estimators': 225}\n",
            "1.2026025998110437 {'max_depth': 80, 'max_features': 6, 'max_leaf_nodes': 150, 'min_samples_leaf': 2, 'min_samples_split': 3, 'n_estimators': 250}\n",
            "1.202348847164882 {'max_depth': 80, 'max_features': 6, 'max_leaf_nodes': 150, 'min_samples_leaf': 2, 'min_samples_split': 3, 'n_estimators': 275}\n",
            "1.2034934449953367 {'max_depth': 80, 'max_features': 6, 'max_leaf_nodes': 150, 'min_samples_leaf': 2, 'min_samples_split': 3, 'n_estimators': 300}\n",
            "1.2034934449953367 {'max_depth': 80, 'max_features': 6, 'max_leaf_nodes': 150, 'min_samples_leaf': 2, 'min_samples_split': 3, 'n_estimators': 325}\n",
            "1.2000002466041169 {'max_depth': 80, 'max_features': 6, 'max_leaf_nodes': 150, 'min_samples_leaf': 2, 'min_samples_split': 6, 'n_estimators': 200}\n",
            "1.2041488492601498 {'max_depth': 80, 'max_features': 6, 'max_leaf_nodes': 150, 'min_samples_leaf': 2, 'min_samples_split': 6, 'n_estimators': 225}\n",
            "1.2020133374254007 {'max_depth': 80, 'max_features': 6, 'max_leaf_nodes': 150, 'min_samples_leaf': 2, 'min_samples_split': 6, 'n_estimators': 250}\n",
            "1.2045844059835646 {'max_depth': 80, 'max_features': 6, 'max_leaf_nodes': 150, 'min_samples_leaf': 2, 'min_samples_split': 6, 'n_estimators': 275}\n",
            "1.2056059973378253 {'max_depth': 80, 'max_features': 6, 'max_leaf_nodes': 150, 'min_samples_leaf': 2, 'min_samples_split': 6, 'n_estimators': 300}\n",
            "1.2048253370169113 {'max_depth': 80, 'max_features': 6, 'max_leaf_nodes': 150, 'min_samples_leaf': 2, 'min_samples_split': 6, 'n_estimators': 325}\n",
            "1.2021811951465171 {'max_depth': 80, 'max_features': 6, 'max_leaf_nodes': 150, 'min_samples_leaf': 2, 'min_samples_split': 9, 'n_estimators': 200}\n",
            "1.2036001858138943 {'max_depth': 80, 'max_features': 6, 'max_leaf_nodes': 150, 'min_samples_leaf': 2, 'min_samples_split': 9, 'n_estimators': 225}\n",
            "1.2007018192208867 {'max_depth': 80, 'max_features': 6, 'max_leaf_nodes': 150, 'min_samples_leaf': 2, 'min_samples_split': 9, 'n_estimators': 250}\n",
            "1.2048253370169113 {'max_depth': 80, 'max_features': 6, 'max_leaf_nodes': 150, 'min_samples_leaf': 2, 'min_samples_split': 9, 'n_estimators': 275}\n",
            "1.2048253370169113 {'max_depth': 80, 'max_features': 6, 'max_leaf_nodes': 150, 'min_samples_leaf': 2, 'min_samples_split': 9, 'n_estimators': 300}\n",
            "1.2049168266305899 {'max_depth': 80, 'max_features': 6, 'max_leaf_nodes': 150, 'min_samples_leaf': 2, 'min_samples_split': 9, 'n_estimators': 325}\n",
            "1.2062605157742763 {'max_depth': 80, 'max_features': 8, 'max_leaf_nodes': 100, 'min_samples_leaf': 1, 'min_samples_split': 3, 'n_estimators': 200}\n",
            "1.2070068663418534 {'max_depth': 80, 'max_features': 8, 'max_leaf_nodes': 100, 'min_samples_leaf': 1, 'min_samples_split': 3, 'n_estimators': 225}\n",
            "1.2083570618629402 {'max_depth': 80, 'max_features': 8, 'max_leaf_nodes': 100, 'min_samples_leaf': 1, 'min_samples_split': 3, 'n_estimators': 250}\n",
            "1.2097675890371204 {'max_depth': 80, 'max_features': 8, 'max_leaf_nodes': 100, 'min_samples_leaf': 1, 'min_samples_split': 3, 'n_estimators': 275}\n",
            "1.2074115150689988 {'max_depth': 80, 'max_features': 8, 'max_leaf_nodes': 100, 'min_samples_leaf': 1, 'min_samples_split': 3, 'n_estimators': 300}\n",
            "1.207276099934397 {'max_depth': 80, 'max_features': 8, 'max_leaf_nodes': 100, 'min_samples_leaf': 1, 'min_samples_split': 3, 'n_estimators': 325}\n",
            "1.2037461020141067 {'max_depth': 80, 'max_features': 8, 'max_leaf_nodes': 100, 'min_samples_leaf': 1, 'min_samples_split': 6, 'n_estimators': 200}\n",
            "1.2048691394095639 {'max_depth': 80, 'max_features': 8, 'max_leaf_nodes': 100, 'min_samples_leaf': 1, 'min_samples_split': 6, 'n_estimators': 225}\n",
            "1.2037461020141067 {'max_depth': 80, 'max_features': 8, 'max_leaf_nodes': 100, 'min_samples_leaf': 1, 'min_samples_split': 6, 'n_estimators': 250}\n",
            "1.203044805563367 {'max_depth': 80, 'max_features': 8, 'max_leaf_nodes': 100, 'min_samples_leaf': 1, 'min_samples_split': 6, 'n_estimators': 275}\n",
            "1.2056547232743218 {'max_depth': 80, 'max_features': 8, 'max_leaf_nodes': 100, 'min_samples_leaf': 1, 'min_samples_split': 6, 'n_estimators': 300}\n",
            "1.2056547232743218 {'max_depth': 80, 'max_features': 8, 'max_leaf_nodes': 100, 'min_samples_leaf': 1, 'min_samples_split': 6, 'n_estimators': 325}\n",
            "1.200709327023797 {'max_depth': 80, 'max_features': 8, 'max_leaf_nodes': 100, 'min_samples_leaf': 1, 'min_samples_split': 9, 'n_estimators': 200}\n",
            "1.2041006711307376 {'max_depth': 80, 'max_features': 8, 'max_leaf_nodes': 100, 'min_samples_leaf': 1, 'min_samples_split': 9, 'n_estimators': 225}\n",
            "1.204941395503397 {'max_depth': 80, 'max_features': 8, 'max_leaf_nodes': 100, 'min_samples_leaf': 1, 'min_samples_split': 9, 'n_estimators': 250}\n",
            "1.201967179676215 {'max_depth': 80, 'max_features': 8, 'max_leaf_nodes': 100, 'min_samples_leaf': 1, 'min_samples_split': 9, 'n_estimators': 275}\n",
            "1.2021851865555864 {'max_depth': 80, 'max_features': 8, 'max_leaf_nodes': 100, 'min_samples_leaf': 1, 'min_samples_split': 9, 'n_estimators': 300}\n",
            "1.2055931309427066 {'max_depth': 80, 'max_features': 8, 'max_leaf_nodes': 100, 'min_samples_leaf': 1, 'min_samples_split': 9, 'n_estimators': 325}\n",
            "1.2076482277238032 {'max_depth': 80, 'max_features': 8, 'max_leaf_nodes': 100, 'min_samples_leaf': 2, 'min_samples_split': 3, 'n_estimators': 200}\n",
            "1.2100040837820314 {'max_depth': 80, 'max_features': 8, 'max_leaf_nodes': 100, 'min_samples_leaf': 2, 'min_samples_split': 3, 'n_estimators': 225}\n",
            "1.2078446333826567 {'max_depth': 80, 'max_features': 8, 'max_leaf_nodes': 100, 'min_samples_leaf': 2, 'min_samples_split': 3, 'n_estimators': 250}\n",
            "1.2076201170197882 {'max_depth': 80, 'max_features': 8, 'max_leaf_nodes': 100, 'min_samples_leaf': 2, 'min_samples_split': 3, 'n_estimators': 275}\n",
            "1.2090772650974637 {'max_depth': 80, 'max_features': 8, 'max_leaf_nodes': 100, 'min_samples_leaf': 2, 'min_samples_split': 3, 'n_estimators': 300}\n",
            "1.2110281421913676 {'max_depth': 80, 'max_features': 8, 'max_leaf_nodes': 100, 'min_samples_leaf': 2, 'min_samples_split': 3, 'n_estimators': 325}\n",
            "1.2039502225373875 {'max_depth': 80, 'max_features': 8, 'max_leaf_nodes': 100, 'min_samples_leaf': 2, 'min_samples_split': 6, 'n_estimators': 200}\n",
            "1.2039502225373875 {'max_depth': 80, 'max_features': 8, 'max_leaf_nodes': 100, 'min_samples_leaf': 2, 'min_samples_split': 6, 'n_estimators': 225}\n",
            "1.205407370615063 {'max_depth': 80, 'max_features': 8, 'max_leaf_nodes': 100, 'min_samples_leaf': 2, 'min_samples_split': 6, 'n_estimators': 250}\n",
            "1.2042691522434608 {'max_depth': 80, 'max_features': 8, 'max_leaf_nodes': 100, 'min_samples_leaf': 2, 'min_samples_split': 6, 'n_estimators': 275}\n",
            "1.205407370615063 {'max_depth': 80, 'max_features': 8, 'max_leaf_nodes': 100, 'min_samples_leaf': 2, 'min_samples_split': 6, 'n_estimators': 300}\n",
            "1.203161673756445 {'max_depth': 80, 'max_features': 8, 'max_leaf_nodes': 100, 'min_samples_leaf': 2, 'min_samples_split': 6, 'n_estimators': 325}\n",
            "1.2003435893047816 {'max_depth': 80, 'max_features': 8, 'max_leaf_nodes': 100, 'min_samples_leaf': 2, 'min_samples_split': 9, 'n_estimators': 200}\n",
            "1.2003435893047816 {'max_depth': 80, 'max_features': 8, 'max_leaf_nodes': 100, 'min_samples_leaf': 2, 'min_samples_split': 9, 'n_estimators': 225}\n",
            "1.2029066609433525 {'max_depth': 80, 'max_features': 8, 'max_leaf_nodes': 100, 'min_samples_leaf': 2, 'min_samples_split': 9, 'n_estimators': 250}\n",
            "1.2032334032881065 {'max_depth': 80, 'max_features': 8, 'max_leaf_nodes': 100, 'min_samples_leaf': 2, 'min_samples_split': 9, 'n_estimators': 325}\n",
            "1.2062605157742763 {'max_depth': 80, 'max_features': 8, 'max_leaf_nodes': 150, 'min_samples_leaf': 1, 'min_samples_split': 3, 'n_estimators': 200}\n",
            "1.2070068663418534 {'max_depth': 80, 'max_features': 8, 'max_leaf_nodes': 150, 'min_samples_leaf': 1, 'min_samples_split': 3, 'n_estimators': 225}\n",
            "1.2083570618629402 {'max_depth': 80, 'max_features': 8, 'max_leaf_nodes': 150, 'min_samples_leaf': 1, 'min_samples_split': 3, 'n_estimators': 250}\n",
            "1.2097675890371204 {'max_depth': 80, 'max_features': 8, 'max_leaf_nodes': 150, 'min_samples_leaf': 1, 'min_samples_split': 3, 'n_estimators': 275}\n",
            "1.2074115150689988 {'max_depth': 80, 'max_features': 8, 'max_leaf_nodes': 150, 'min_samples_leaf': 1, 'min_samples_split': 3, 'n_estimators': 300}\n",
            "1.207276099934397 {'max_depth': 80, 'max_features': 8, 'max_leaf_nodes': 150, 'min_samples_leaf': 1, 'min_samples_split': 3, 'n_estimators': 325}\n",
            "1.2037461020141067 {'max_depth': 80, 'max_features': 8, 'max_leaf_nodes': 150, 'min_samples_leaf': 1, 'min_samples_split': 6, 'n_estimators': 200}\n",
            "1.2048691394095639 {'max_depth': 80, 'max_features': 8, 'max_leaf_nodes': 150, 'min_samples_leaf': 1, 'min_samples_split': 6, 'n_estimators': 225}\n",
            "1.2037461020141067 {'max_depth': 80, 'max_features': 8, 'max_leaf_nodes': 150, 'min_samples_leaf': 1, 'min_samples_split': 6, 'n_estimators': 250}\n",
            "1.203044805563367 {'max_depth': 80, 'max_features': 8, 'max_leaf_nodes': 150, 'min_samples_leaf': 1, 'min_samples_split': 6, 'n_estimators': 275}\n",
            "1.2056547232743218 {'max_depth': 80, 'max_features': 8, 'max_leaf_nodes': 150, 'min_samples_leaf': 1, 'min_samples_split': 6, 'n_estimators': 300}\n",
            "1.2056547232743218 {'max_depth': 80, 'max_features': 8, 'max_leaf_nodes': 150, 'min_samples_leaf': 1, 'min_samples_split': 6, 'n_estimators': 325}\n",
            "1.200709327023797 {'max_depth': 80, 'max_features': 8, 'max_leaf_nodes': 150, 'min_samples_leaf': 1, 'min_samples_split': 9, 'n_estimators': 200}\n",
            "1.2041006711307376 {'max_depth': 80, 'max_features': 8, 'max_leaf_nodes': 150, 'min_samples_leaf': 1, 'min_samples_split': 9, 'n_estimators': 225}\n",
            "1.204941395503397 {'max_depth': 80, 'max_features': 8, 'max_leaf_nodes': 150, 'min_samples_leaf': 1, 'min_samples_split': 9, 'n_estimators': 250}\n",
            "1.201967179676215 {'max_depth': 80, 'max_features': 8, 'max_leaf_nodes': 150, 'min_samples_leaf': 1, 'min_samples_split': 9, 'n_estimators': 275}\n",
            "1.2021851865555864 {'max_depth': 80, 'max_features': 8, 'max_leaf_nodes': 150, 'min_samples_leaf': 1, 'min_samples_split': 9, 'n_estimators': 300}\n",
            "1.2055931309427066 {'max_depth': 80, 'max_features': 8, 'max_leaf_nodes': 150, 'min_samples_leaf': 1, 'min_samples_split': 9, 'n_estimators': 325}\n",
            "1.2076482277238032 {'max_depth': 80, 'max_features': 8, 'max_leaf_nodes': 150, 'min_samples_leaf': 2, 'min_samples_split': 3, 'n_estimators': 200}\n",
            "1.2100040837820314 {'max_depth': 80, 'max_features': 8, 'max_leaf_nodes': 150, 'min_samples_leaf': 2, 'min_samples_split': 3, 'n_estimators': 225}\n",
            "1.2078446333826567 {'max_depth': 80, 'max_features': 8, 'max_leaf_nodes': 150, 'min_samples_leaf': 2, 'min_samples_split': 3, 'n_estimators': 250}\n",
            "1.2076201170197882 {'max_depth': 80, 'max_features': 8, 'max_leaf_nodes': 150, 'min_samples_leaf': 2, 'min_samples_split': 3, 'n_estimators': 275}\n",
            "1.2090772650974637 {'max_depth': 80, 'max_features': 8, 'max_leaf_nodes': 150, 'min_samples_leaf': 2, 'min_samples_split': 3, 'n_estimators': 300}\n",
            "1.2110281421913676 {'max_depth': 80, 'max_features': 8, 'max_leaf_nodes': 150, 'min_samples_leaf': 2, 'min_samples_split': 3, 'n_estimators': 325}\n",
            "1.2039502225373875 {'max_depth': 80, 'max_features': 8, 'max_leaf_nodes': 150, 'min_samples_leaf': 2, 'min_samples_split': 6, 'n_estimators': 200}\n",
            "1.2039502225373875 {'max_depth': 80, 'max_features': 8, 'max_leaf_nodes': 150, 'min_samples_leaf': 2, 'min_samples_split': 6, 'n_estimators': 225}\n",
            "1.205407370615063 {'max_depth': 80, 'max_features': 8, 'max_leaf_nodes': 150, 'min_samples_leaf': 2, 'min_samples_split': 6, 'n_estimators': 250}\n",
            "1.2042691522434608 {'max_depth': 80, 'max_features': 8, 'max_leaf_nodes': 150, 'min_samples_leaf': 2, 'min_samples_split': 6, 'n_estimators': 275}\n",
            "1.205407370615063 {'max_depth': 80, 'max_features': 8, 'max_leaf_nodes': 150, 'min_samples_leaf': 2, 'min_samples_split': 6, 'n_estimators': 300}\n",
            "1.203161673756445 {'max_depth': 80, 'max_features': 8, 'max_leaf_nodes': 150, 'min_samples_leaf': 2, 'min_samples_split': 6, 'n_estimators': 325}\n",
            "1.2003435893047816 {'max_depth': 80, 'max_features': 8, 'max_leaf_nodes': 150, 'min_samples_leaf': 2, 'min_samples_split': 9, 'n_estimators': 200}\n",
            "1.2003435893047816 {'max_depth': 80, 'max_features': 8, 'max_leaf_nodes': 150, 'min_samples_leaf': 2, 'min_samples_split': 9, 'n_estimators': 225}\n",
            "1.2029066609433525 {'max_depth': 80, 'max_features': 8, 'max_leaf_nodes': 150, 'min_samples_leaf': 2, 'min_samples_split': 9, 'n_estimators': 250}\n",
            "1.2032334032881065 {'max_depth': 80, 'max_features': 8, 'max_leaf_nodes': 150, 'min_samples_leaf': 2, 'min_samples_split': 9, 'n_estimators': 325}\n",
            "1.2024703665391963 {'max_depth': 80, 'max_features': 10, 'max_leaf_nodes': 100, 'min_samples_leaf': 1, 'min_samples_split': 3, 'n_estimators': 200}\n",
            "1.2036014580621104 {'max_depth': 80, 'max_features': 10, 'max_leaf_nodes': 100, 'min_samples_leaf': 1, 'min_samples_split': 3, 'n_estimators': 225}\n",
            "1.207170093322606 {'max_depth': 80, 'max_features': 10, 'max_leaf_nodes': 100, 'min_samples_leaf': 1, 'min_samples_split': 3, 'n_estimators': 250}\n",
            "1.2088703565406826 {'max_depth': 80, 'max_features': 10, 'max_leaf_nodes': 100, 'min_samples_leaf': 1, 'min_samples_split': 3, 'n_estimators': 275}\n",
            "1.2075094675344764 {'max_depth': 80, 'max_features': 10, 'max_leaf_nodes': 100, 'min_samples_leaf': 1, 'min_samples_split': 3, 'n_estimators': 300}\n",
            "1.2063893560324488 {'max_depth': 80, 'max_features': 10, 'max_leaf_nodes': 100, 'min_samples_leaf': 1, 'min_samples_split': 3, 'n_estimators': 325}\n",
            "1.2053548756568324 {'max_depth': 80, 'max_features': 10, 'max_leaf_nodes': 100, 'min_samples_leaf': 1, 'min_samples_split': 6, 'n_estimators': 200}\n",
            "1.2034050745381148 {'max_depth': 80, 'max_features': 10, 'max_leaf_nodes': 100, 'min_samples_leaf': 1, 'min_samples_split': 6, 'n_estimators': 225}\n",
            "1.2066725677335126 {'max_depth': 80, 'max_features': 10, 'max_leaf_nodes': 100, 'min_samples_leaf': 1, 'min_samples_split': 6, 'n_estimators': 250}\n",
            "1.2071227796940436 {'max_depth': 80, 'max_features': 10, 'max_leaf_nodes': 100, 'min_samples_leaf': 1, 'min_samples_split': 6, 'n_estimators': 275}\n",
            "1.206296293228969 {'max_depth': 80, 'max_features': 10, 'max_leaf_nodes': 100, 'min_samples_leaf': 1, 'min_samples_split': 6, 'n_estimators': 300}\n",
            "1.2041448092101752 {'max_depth': 80, 'max_features': 10, 'max_leaf_nodes': 100, 'min_samples_leaf': 1, 'min_samples_split': 6, 'n_estimators': 325}\n",
            "1.2025327644143196 {'max_depth': 80, 'max_features': 10, 'max_leaf_nodes': 100, 'min_samples_leaf': 1, 'min_samples_split': 9, 'n_estimators': 200}\n",
            "1.2025950225857112 {'max_depth': 80, 'max_features': 10, 'max_leaf_nodes': 100, 'min_samples_leaf': 1, 'min_samples_split': 9, 'n_estimators': 225}\n",
            "1.2047270031765671 {'max_depth': 80, 'max_features': 10, 'max_leaf_nodes': 100, 'min_samples_leaf': 1, 'min_samples_split': 9, 'n_estimators': 250}\n",
            "1.205955076051297 {'max_depth': 80, 'max_features': 10, 'max_leaf_nodes': 100, 'min_samples_leaf': 1, 'min_samples_split': 9, 'n_estimators': 275}\n",
            "1.2060450292800566 {'max_depth': 80, 'max_features': 10, 'max_leaf_nodes': 100, 'min_samples_leaf': 1, 'min_samples_split': 9, 'n_estimators': 300}\n",
            "1.2040278569039546 {'max_depth': 80, 'max_features': 10, 'max_leaf_nodes': 100, 'min_samples_leaf': 1, 'min_samples_split': 9, 'n_estimators': 325}\n",
            "1.2065592337677267 {'max_depth': 80, 'max_features': 10, 'max_leaf_nodes': 100, 'min_samples_leaf': 2, 'min_samples_split': 3, 'n_estimators': 200}\n",
            "1.2073852701240606 {'max_depth': 80, 'max_features': 10, 'max_leaf_nodes': 100, 'min_samples_leaf': 2, 'min_samples_split': 3, 'n_estimators': 225}\n",
            "1.2061999494126325 {'max_depth': 80, 'max_features': 10, 'max_leaf_nodes': 100, 'min_samples_leaf': 2, 'min_samples_split': 3, 'n_estimators': 250}\n",
            "1.2076973552423578 {'max_depth': 80, 'max_features': 10, 'max_leaf_nodes': 100, 'min_samples_leaf': 2, 'min_samples_split': 3, 'n_estimators': 275}\n",
            "1.2085055952460766 {'max_depth': 80, 'max_features': 10, 'max_leaf_nodes': 100, 'min_samples_leaf': 2, 'min_samples_split': 3, 'n_estimators': 300}\n",
            "1.210691456381657 {'max_depth': 80, 'max_features': 10, 'max_leaf_nodes': 100, 'min_samples_leaf': 2, 'min_samples_split': 3, 'n_estimators': 325}\n",
            "1.2072832907581394 {'max_depth': 80, 'max_features': 10, 'max_leaf_nodes': 100, 'min_samples_leaf': 2, 'min_samples_split': 6, 'n_estimators': 200}\n",
            "1.2072227935073119 {'max_depth': 80, 'max_features': 10, 'max_leaf_nodes': 100, 'min_samples_leaf': 2, 'min_samples_split': 6, 'n_estimators': 225}\n",
            "1.2052853646885098 {'max_depth': 80, 'max_features': 10, 'max_leaf_nodes': 100, 'min_samples_leaf': 2, 'min_samples_split': 6, 'n_estimators': 250}\n",
            "1.2043478057783676 {'max_depth': 80, 'max_features': 10, 'max_leaf_nodes': 100, 'min_samples_leaf': 2, 'min_samples_split': 6, 'n_estimators': 275}\n",
            "1.2054581775369533 {'max_depth': 80, 'max_features': 10, 'max_leaf_nodes': 100, 'min_samples_leaf': 2, 'min_samples_split': 6, 'n_estimators': 300}\n",
            "1.2054581775369533 {'max_depth': 80, 'max_features': 10, 'max_leaf_nodes': 100, 'min_samples_leaf': 2, 'min_samples_split': 6, 'n_estimators': 325}\n",
            "1.2050768481444083 {'max_depth': 80, 'max_features': 10, 'max_leaf_nodes': 100, 'min_samples_leaf': 2, 'min_samples_split': 9, 'n_estimators': 200}\n",
            "1.2072750253365174 {'max_depth': 80, 'max_features': 10, 'max_leaf_nodes': 100, 'min_samples_leaf': 2, 'min_samples_split': 9, 'n_estimators': 225}\n",
            "1.2070278408043698 {'max_depth': 80, 'max_features': 10, 'max_leaf_nodes': 100, 'min_samples_leaf': 2, 'min_samples_split': 9, 'n_estimators': 250}\n",
            "1.2062176094136399 {'max_depth': 80, 'max_features': 10, 'max_leaf_nodes': 100, 'min_samples_leaf': 2, 'min_samples_split': 9, 'n_estimators': 275}\n",
            "1.2034048278797445 {'max_depth': 80, 'max_features': 10, 'max_leaf_nodes': 100, 'min_samples_leaf': 2, 'min_samples_split': 9, 'n_estimators': 300}\n",
            "1.2051391893265417 {'max_depth': 80, 'max_features': 10, 'max_leaf_nodes': 100, 'min_samples_leaf': 2, 'min_samples_split': 9, 'n_estimators': 325}\n",
            "1.2024703665391963 {'max_depth': 80, 'max_features': 10, 'max_leaf_nodes': 150, 'min_samples_leaf': 1, 'min_samples_split': 3, 'n_estimators': 200}\n",
            "1.2036014580621104 {'max_depth': 80, 'max_features': 10, 'max_leaf_nodes': 150, 'min_samples_leaf': 1, 'min_samples_split': 3, 'n_estimators': 225}\n",
            "1.207170093322606 {'max_depth': 80, 'max_features': 10, 'max_leaf_nodes': 150, 'min_samples_leaf': 1, 'min_samples_split': 3, 'n_estimators': 250}\n",
            "1.2088703565406826 {'max_depth': 80, 'max_features': 10, 'max_leaf_nodes': 150, 'min_samples_leaf': 1, 'min_samples_split': 3, 'n_estimators': 275}\n",
            "1.2075094675344764 {'max_depth': 80, 'max_features': 10, 'max_leaf_nodes': 150, 'min_samples_leaf': 1, 'min_samples_split': 3, 'n_estimators': 300}\n",
            "1.2063893560324488 {'max_depth': 80, 'max_features': 10, 'max_leaf_nodes': 150, 'min_samples_leaf': 1, 'min_samples_split': 3, 'n_estimators': 325}\n",
            "1.2053548756568324 {'max_depth': 80, 'max_features': 10, 'max_leaf_nodes': 150, 'min_samples_leaf': 1, 'min_samples_split': 6, 'n_estimators': 200}\n",
            "1.2034050745381148 {'max_depth': 80, 'max_features': 10, 'max_leaf_nodes': 150, 'min_samples_leaf': 1, 'min_samples_split': 6, 'n_estimators': 225}\n",
            "1.2066725677335126 {'max_depth': 80, 'max_features': 10, 'max_leaf_nodes': 150, 'min_samples_leaf': 1, 'min_samples_split': 6, 'n_estimators': 250}\n",
            "1.2071227796940436 {'max_depth': 80, 'max_features': 10, 'max_leaf_nodes': 150, 'min_samples_leaf': 1, 'min_samples_split': 6, 'n_estimators': 275}\n",
            "1.206296293228969 {'max_depth': 80, 'max_features': 10, 'max_leaf_nodes': 150, 'min_samples_leaf': 1, 'min_samples_split': 6, 'n_estimators': 300}\n",
            "1.2041448092101752 {'max_depth': 80, 'max_features': 10, 'max_leaf_nodes': 150, 'min_samples_leaf': 1, 'min_samples_split': 6, 'n_estimators': 325}\n",
            "1.2025327644143196 {'max_depth': 80, 'max_features': 10, 'max_leaf_nodes': 150, 'min_samples_leaf': 1, 'min_samples_split': 9, 'n_estimators': 200}\n",
            "1.2025950225857112 {'max_depth': 80, 'max_features': 10, 'max_leaf_nodes': 150, 'min_samples_leaf': 1, 'min_samples_split': 9, 'n_estimators': 225}\n",
            "1.2047270031765671 {'max_depth': 80, 'max_features': 10, 'max_leaf_nodes': 150, 'min_samples_leaf': 1, 'min_samples_split': 9, 'n_estimators': 250}\n",
            "1.205955076051297 {'max_depth': 80, 'max_features': 10, 'max_leaf_nodes': 150, 'min_samples_leaf': 1, 'min_samples_split': 9, 'n_estimators': 275}\n",
            "1.2060450292800566 {'max_depth': 80, 'max_features': 10, 'max_leaf_nodes': 150, 'min_samples_leaf': 1, 'min_samples_split': 9, 'n_estimators': 300}\n",
            "1.2040278569039546 {'max_depth': 80, 'max_features': 10, 'max_leaf_nodes': 150, 'min_samples_leaf': 1, 'min_samples_split': 9, 'n_estimators': 325}\n",
            "1.2065592337677267 {'max_depth': 80, 'max_features': 10, 'max_leaf_nodes': 150, 'min_samples_leaf': 2, 'min_samples_split': 3, 'n_estimators': 200}\n",
            "1.2073852701240606 {'max_depth': 80, 'max_features': 10, 'max_leaf_nodes': 150, 'min_samples_leaf': 2, 'min_samples_split': 3, 'n_estimators': 225}\n",
            "1.2061999494126325 {'max_depth': 80, 'max_features': 10, 'max_leaf_nodes': 150, 'min_samples_leaf': 2, 'min_samples_split': 3, 'n_estimators': 250}\n",
            "1.2076973552423578 {'max_depth': 80, 'max_features': 10, 'max_leaf_nodes': 150, 'min_samples_leaf': 2, 'min_samples_split': 3, 'n_estimators': 275}\n",
            "1.2085055952460766 {'max_depth': 80, 'max_features': 10, 'max_leaf_nodes': 150, 'min_samples_leaf': 2, 'min_samples_split': 3, 'n_estimators': 300}\n",
            "1.210691456381657 {'max_depth': 80, 'max_features': 10, 'max_leaf_nodes': 150, 'min_samples_leaf': 2, 'min_samples_split': 3, 'n_estimators': 325}\n",
            "1.2072832907581394 {'max_depth': 80, 'max_features': 10, 'max_leaf_nodes': 150, 'min_samples_leaf': 2, 'min_samples_split': 6, 'n_estimators': 200}\n",
            "1.2072227935073119 {'max_depth': 80, 'max_features': 10, 'max_leaf_nodes': 150, 'min_samples_leaf': 2, 'min_samples_split': 6, 'n_estimators': 225}\n",
            "1.2052853646885098 {'max_depth': 80, 'max_features': 10, 'max_leaf_nodes': 150, 'min_samples_leaf': 2, 'min_samples_split': 6, 'n_estimators': 250}\n",
            "1.2043478057783676 {'max_depth': 80, 'max_features': 10, 'max_leaf_nodes': 150, 'min_samples_leaf': 2, 'min_samples_split': 6, 'n_estimators': 275}\n",
            "1.2054581775369533 {'max_depth': 80, 'max_features': 10, 'max_leaf_nodes': 150, 'min_samples_leaf': 2, 'min_samples_split': 6, 'n_estimators': 300}\n",
            "1.2054581775369533 {'max_depth': 80, 'max_features': 10, 'max_leaf_nodes': 150, 'min_samples_leaf': 2, 'min_samples_split': 6, 'n_estimators': 325}\n",
            "1.2050768481444083 {'max_depth': 80, 'max_features': 10, 'max_leaf_nodes': 150, 'min_samples_leaf': 2, 'min_samples_split': 9, 'n_estimators': 200}\n",
            "1.2072750253365174 {'max_depth': 80, 'max_features': 10, 'max_leaf_nodes': 150, 'min_samples_leaf': 2, 'min_samples_split': 9, 'n_estimators': 225}\n",
            "1.2070278408043698 {'max_depth': 80, 'max_features': 10, 'max_leaf_nodes': 150, 'min_samples_leaf': 2, 'min_samples_split': 9, 'n_estimators': 250}\n",
            "1.2062176094136399 {'max_depth': 80, 'max_features': 10, 'max_leaf_nodes': 150, 'min_samples_leaf': 2, 'min_samples_split': 9, 'n_estimators': 275}\n",
            "1.2034048278797445 {'max_depth': 80, 'max_features': 10, 'max_leaf_nodes': 150, 'min_samples_leaf': 2, 'min_samples_split': 9, 'n_estimators': 300}\n",
            "1.2051391893265417 {'max_depth': 80, 'max_features': 10, 'max_leaf_nodes': 150, 'min_samples_leaf': 2, 'min_samples_split': 9, 'n_estimators': 325}\n",
            "1.2083790549742408 {'max_depth': 80, 'max_features': 12, 'max_leaf_nodes': 100, 'min_samples_leaf': 1, 'min_samples_split': 3, 'n_estimators': 200}\n",
            "1.2064804483064941 {'max_depth': 80, 'max_features': 12, 'max_leaf_nodes': 100, 'min_samples_leaf': 1, 'min_samples_split': 3, 'n_estimators': 225}\n",
            "1.2091829523389648 {'max_depth': 80, 'max_features': 12, 'max_leaf_nodes': 100, 'min_samples_leaf': 1, 'min_samples_split': 3, 'n_estimators': 250}\n",
            "1.2035735609697304 {'max_depth': 80, 'max_features': 12, 'max_leaf_nodes': 100, 'min_samples_leaf': 1, 'min_samples_split': 3, 'n_estimators': 275}\n",
            "1.2006123100445958 {'max_depth': 80, 'max_features': 12, 'max_leaf_nodes': 100, 'min_samples_leaf': 1, 'min_samples_split': 3, 'n_estimators': 300}\n",
            "1.2038782171087363 {'max_depth': 80, 'max_features': 12, 'max_leaf_nodes': 100, 'min_samples_leaf': 1, 'min_samples_split': 3, 'n_estimators': 325}\n",
            "1.200362691825465 {'max_depth': 80, 'max_features': 12, 'max_leaf_nodes': 100, 'min_samples_leaf': 1, 'min_samples_split': 9, 'n_estimators': 225}\n",
            "1.200362691825465 {'max_depth': 80, 'max_features': 12, 'max_leaf_nodes': 100, 'min_samples_leaf': 1, 'min_samples_split': 9, 'n_estimators': 250}\n",
            "1.2024562441431308 {'max_depth': 80, 'max_features': 12, 'max_leaf_nodes': 100, 'min_samples_leaf': 1, 'min_samples_split': 9, 'n_estimators': 300}\n",
            "1.2025391416081352 {'max_depth': 80, 'max_features': 12, 'max_leaf_nodes': 100, 'min_samples_leaf': 2, 'min_samples_split': 3, 'n_estimators': 200}\n",
            "1.2011490120085333 {'max_depth': 80, 'max_features': 12, 'max_leaf_nodes': 100, 'min_samples_leaf': 2, 'min_samples_split': 3, 'n_estimators': 225}\n",
            "1.2041495752658469 {'max_depth': 80, 'max_features': 12, 'max_leaf_nodes': 100, 'min_samples_leaf': 2, 'min_samples_split': 3, 'n_estimators': 250}\n",
            "1.2019746802999511 {'max_depth': 80, 'max_features': 12, 'max_leaf_nodes': 100, 'min_samples_leaf': 2, 'min_samples_split': 3, 'n_estimators': 275}\n",
            "1.2015618780140314 {'max_depth': 80, 'max_features': 12, 'max_leaf_nodes': 100, 'min_samples_leaf': 2, 'min_samples_split': 3, 'n_estimators': 300}\n",
            "1.20526483669144 {'max_depth': 80, 'max_features': 12, 'max_leaf_nodes': 100, 'min_samples_leaf': 2, 'min_samples_split': 3, 'n_estimators': 325}\n",
            "1.2052052118968954 {'max_depth': 80, 'max_features': 12, 'max_leaf_nodes': 100, 'min_samples_leaf': 2, 'min_samples_split': 6, 'n_estimators': 200}\n",
            "1.20409484013831 {'max_depth': 80, 'max_features': 12, 'max_leaf_nodes': 100, 'min_samples_leaf': 2, 'min_samples_split': 6, 'n_estimators': 225}\n",
            "1.203462429142476 {'max_depth': 80, 'max_features': 12, 'max_leaf_nodes': 100, 'min_samples_leaf': 2, 'min_samples_split': 6, 'n_estimators': 250}\n",
            "1.2016626203064846 {'max_depth': 80, 'max_features': 12, 'max_leaf_nodes': 100, 'min_samples_leaf': 2, 'min_samples_split': 6, 'n_estimators': 275}\n",
            "1.2046006475140785 {'max_depth': 80, 'max_features': 12, 'max_leaf_nodes': 100, 'min_samples_leaf': 2, 'min_samples_split': 6, 'n_estimators': 300}\n",
            "1.2053640755306358 {'max_depth': 80, 'max_features': 12, 'max_leaf_nodes': 100, 'min_samples_leaf': 2, 'min_samples_split': 6, 'n_estimators': 325}\n",
            "1.2002552997271057 {'max_depth': 80, 'max_features': 12, 'max_leaf_nodes': 100, 'min_samples_leaf': 2, 'min_samples_split': 9, 'n_estimators': 200}\n",
            "1.2036348207038663 {'max_depth': 80, 'max_features': 12, 'max_leaf_nodes': 100, 'min_samples_leaf': 2, 'min_samples_split': 9, 'n_estimators': 225}\n",
            "1.2036348207038663 {'max_depth': 80, 'max_features': 12, 'max_leaf_nodes': 100, 'min_samples_leaf': 2, 'min_samples_split': 9, 'n_estimators': 250}\n",
            "1.2030586879153116 {'max_depth': 80, 'max_features': 12, 'max_leaf_nodes': 100, 'min_samples_leaf': 2, 'min_samples_split': 9, 'n_estimators': 275}\n",
            "1.2030586879153116 {'max_depth': 80, 'max_features': 12, 'max_leaf_nodes': 100, 'min_samples_leaf': 2, 'min_samples_split': 9, 'n_estimators': 300}\n",
            "1.201948316156726 {'max_depth': 80, 'max_features': 12, 'max_leaf_nodes': 100, 'min_samples_leaf': 2, 'min_samples_split': 9, 'n_estimators': 325}\n",
            "1.2083790549742408 {'max_depth': 80, 'max_features': 12, 'max_leaf_nodes': 150, 'min_samples_leaf': 1, 'min_samples_split': 3, 'n_estimators': 200}\n",
            "1.2064804483064941 {'max_depth': 80, 'max_features': 12, 'max_leaf_nodes': 150, 'min_samples_leaf': 1, 'min_samples_split': 3, 'n_estimators': 225}\n",
            "1.2091829523389648 {'max_depth': 80, 'max_features': 12, 'max_leaf_nodes': 150, 'min_samples_leaf': 1, 'min_samples_split': 3, 'n_estimators': 250}\n",
            "1.2035735609697304 {'max_depth': 80, 'max_features': 12, 'max_leaf_nodes': 150, 'min_samples_leaf': 1, 'min_samples_split': 3, 'n_estimators': 275}\n",
            "1.2006123100445958 {'max_depth': 80, 'max_features': 12, 'max_leaf_nodes': 150, 'min_samples_leaf': 1, 'min_samples_split': 3, 'n_estimators': 300}\n",
            "1.2038782171087363 {'max_depth': 80, 'max_features': 12, 'max_leaf_nodes': 150, 'min_samples_leaf': 1, 'min_samples_split': 3, 'n_estimators': 325}\n",
            "1.200362691825465 {'max_depth': 80, 'max_features': 12, 'max_leaf_nodes': 150, 'min_samples_leaf': 1, 'min_samples_split': 9, 'n_estimators': 225}\n",
            "1.200362691825465 {'max_depth': 80, 'max_features': 12, 'max_leaf_nodes': 150, 'min_samples_leaf': 1, 'min_samples_split': 9, 'n_estimators': 250}\n",
            "1.2024562441431308 {'max_depth': 80, 'max_features': 12, 'max_leaf_nodes': 150, 'min_samples_leaf': 1, 'min_samples_split': 9, 'n_estimators': 300}\n",
            "1.2025391416081352 {'max_depth': 80, 'max_features': 12, 'max_leaf_nodes': 150, 'min_samples_leaf': 2, 'min_samples_split': 3, 'n_estimators': 200}\n",
            "1.2011490120085333 {'max_depth': 80, 'max_features': 12, 'max_leaf_nodes': 150, 'min_samples_leaf': 2, 'min_samples_split': 3, 'n_estimators': 225}\n",
            "1.2041495752658469 {'max_depth': 80, 'max_features': 12, 'max_leaf_nodes': 150, 'min_samples_leaf': 2, 'min_samples_split': 3, 'n_estimators': 250}\n",
            "1.2019746802999511 {'max_depth': 80, 'max_features': 12, 'max_leaf_nodes': 150, 'min_samples_leaf': 2, 'min_samples_split': 3, 'n_estimators': 275}\n",
            "1.2015618780140314 {'max_depth': 80, 'max_features': 12, 'max_leaf_nodes': 150, 'min_samples_leaf': 2, 'min_samples_split': 3, 'n_estimators': 300}\n",
            "1.20526483669144 {'max_depth': 80, 'max_features': 12, 'max_leaf_nodes': 150, 'min_samples_leaf': 2, 'min_samples_split': 3, 'n_estimators': 325}\n",
            "1.2052052118968954 {'max_depth': 80, 'max_features': 12, 'max_leaf_nodes': 150, 'min_samples_leaf': 2, 'min_samples_split': 6, 'n_estimators': 200}\n",
            "1.20409484013831 {'max_depth': 80, 'max_features': 12, 'max_leaf_nodes': 150, 'min_samples_leaf': 2, 'min_samples_split': 6, 'n_estimators': 225}\n",
            "1.203462429142476 {'max_depth': 80, 'max_features': 12, 'max_leaf_nodes': 150, 'min_samples_leaf': 2, 'min_samples_split': 6, 'n_estimators': 250}\n",
            "1.2016626203064846 {'max_depth': 80, 'max_features': 12, 'max_leaf_nodes': 150, 'min_samples_leaf': 2, 'min_samples_split': 6, 'n_estimators': 275}\n",
            "1.2046006475140785 {'max_depth': 80, 'max_features': 12, 'max_leaf_nodes': 150, 'min_samples_leaf': 2, 'min_samples_split': 6, 'n_estimators': 300}\n",
            "1.2053640755306358 {'max_depth': 80, 'max_features': 12, 'max_leaf_nodes': 150, 'min_samples_leaf': 2, 'min_samples_split': 6, 'n_estimators': 325}\n",
            "1.2002552997271057 {'max_depth': 80, 'max_features': 12, 'max_leaf_nodes': 150, 'min_samples_leaf': 2, 'min_samples_split': 9, 'n_estimators': 200}\n",
            "1.2036348207038663 {'max_depth': 80, 'max_features': 12, 'max_leaf_nodes': 150, 'min_samples_leaf': 2, 'min_samples_split': 9, 'n_estimators': 225}\n",
            "1.2036348207038663 {'max_depth': 80, 'max_features': 12, 'max_leaf_nodes': 150, 'min_samples_leaf': 2, 'min_samples_split': 9, 'n_estimators': 250}\n",
            "1.2030586879153116 {'max_depth': 80, 'max_features': 12, 'max_leaf_nodes': 150, 'min_samples_leaf': 2, 'min_samples_split': 9, 'n_estimators': 275}\n",
            "1.2030586879153116 {'max_depth': 80, 'max_features': 12, 'max_leaf_nodes': 150, 'min_samples_leaf': 2, 'min_samples_split': 9, 'n_estimators': 300}\n",
            "1.201948316156726 {'max_depth': 80, 'max_features': 12, 'max_leaf_nodes': 150, 'min_samples_leaf': 2, 'min_samples_split': 9, 'n_estimators': 325}\n",
            "1.2000729137056805 {'max_depth': 80, 'max_features': 14, 'max_leaf_nodes': 100, 'min_samples_leaf': 2, 'min_samples_split': 9, 'n_estimators': 300}\n",
            "1.2000729137056805 {'max_depth': 80, 'max_features': 14, 'max_leaf_nodes': 150, 'min_samples_leaf': 2, 'min_samples_split': 9, 'n_estimators': 300}\n",
            "1.204135820272366 {'max_depth': 100, 'max_features': 6, 'max_leaf_nodes': 100, 'min_samples_leaf': 1, 'min_samples_split': 3, 'n_estimators': 200}\n",
            "1.2034224753253544 {'max_depth': 100, 'max_features': 6, 'max_leaf_nodes': 100, 'min_samples_leaf': 1, 'min_samples_split': 3, 'n_estimators': 225}\n",
            "1.203743054220356 {'max_depth': 100, 'max_features': 6, 'max_leaf_nodes': 100, 'min_samples_leaf': 1, 'min_samples_split': 3, 'n_estimators': 250}\n",
            "1.2057311577073557 {'max_depth': 100, 'max_features': 6, 'max_leaf_nodes': 100, 'min_samples_leaf': 1, 'min_samples_split': 3, 'n_estimators': 275}\n",
            "1.2049631796622875 {'max_depth': 100, 'max_features': 6, 'max_leaf_nodes': 100, 'min_samples_leaf': 1, 'min_samples_split': 3, 'n_estimators': 300}\n",
            "1.2057897844075849 {'max_depth': 100, 'max_features': 6, 'max_leaf_nodes': 100, 'min_samples_leaf': 1, 'min_samples_split': 3, 'n_estimators': 325}\n",
            "1.201308736286034 {'max_depth': 100, 'max_features': 6, 'max_leaf_nodes': 100, 'min_samples_leaf': 1, 'min_samples_split': 6, 'n_estimators': 200}\n",
            "1.2016126650058656 {'max_depth': 100, 'max_features': 6, 'max_leaf_nodes': 100, 'min_samples_leaf': 1, 'min_samples_split': 6, 'n_estimators': 225}\n",
            "1.2034272416775926 {'max_depth': 100, 'max_features': 6, 'max_leaf_nodes': 100, 'min_samples_leaf': 1, 'min_samples_split': 6, 'n_estimators': 250}\n",
            "1.2049130685470435 {'max_depth': 100, 'max_features': 6, 'max_leaf_nodes': 100, 'min_samples_leaf': 1, 'min_samples_split': 6, 'n_estimators': 275}\n",
            "1.2049130685470435 {'max_depth': 100, 'max_features': 6, 'max_leaf_nodes': 100, 'min_samples_leaf': 1, 'min_samples_split': 6, 'n_estimators': 300}\n",
            "1.2059696270263967 {'max_depth': 100, 'max_features': 6, 'max_leaf_nodes': 100, 'min_samples_leaf': 1, 'min_samples_split': 6, 'n_estimators': 325}\n",
            "1.2020459697457282 {'max_depth': 100, 'max_features': 6, 'max_leaf_nodes': 100, 'min_samples_leaf': 1, 'min_samples_split': 9, 'n_estimators': 225}\n",
            "1.2039925116969894 {'max_depth': 100, 'max_features': 6, 'max_leaf_nodes': 100, 'min_samples_leaf': 1, 'min_samples_split': 9, 'n_estimators': 250}\n",
            "1.2077512226952272 {'max_depth': 100, 'max_features': 6, 'max_leaf_nodes': 100, 'min_samples_leaf': 1, 'min_samples_split': 9, 'n_estimators': 275}\n",
            "1.2047050872317737 {'max_depth': 100, 'max_features': 6, 'max_leaf_nodes': 100, 'min_samples_leaf': 1, 'min_samples_split': 9, 'n_estimators': 300}\n",
            "1.2068980385787176 {'max_depth': 100, 'max_features': 6, 'max_leaf_nodes': 100, 'min_samples_leaf': 1, 'min_samples_split': 9, 'n_estimators': 325}\n",
            "1.2042237162712168 {'max_depth': 100, 'max_features': 6, 'max_leaf_nodes': 100, 'min_samples_leaf': 2, 'min_samples_split': 3, 'n_estimators': 200}\n",
            "1.202285686503364 {'max_depth': 100, 'max_features': 6, 'max_leaf_nodes': 100, 'min_samples_leaf': 2, 'min_samples_split': 3, 'n_estimators': 225}\n",
            "1.2026025998110437 {'max_depth': 100, 'max_features': 6, 'max_leaf_nodes': 100, 'min_samples_leaf': 2, 'min_samples_split': 3, 'n_estimators': 250}\n",
            "1.202348847164882 {'max_depth': 100, 'max_features': 6, 'max_leaf_nodes': 100, 'min_samples_leaf': 2, 'min_samples_split': 3, 'n_estimators': 275}\n",
            "1.2034934449953367 {'max_depth': 100, 'max_features': 6, 'max_leaf_nodes': 100, 'min_samples_leaf': 2, 'min_samples_split': 3, 'n_estimators': 300}\n",
            "1.2034934449953367 {'max_depth': 100, 'max_features': 6, 'max_leaf_nodes': 100, 'min_samples_leaf': 2, 'min_samples_split': 3, 'n_estimators': 325}\n",
            "1.2000002466041169 {'max_depth': 100, 'max_features': 6, 'max_leaf_nodes': 100, 'min_samples_leaf': 2, 'min_samples_split': 6, 'n_estimators': 200}\n",
            "1.2041488492601498 {'max_depth': 100, 'max_features': 6, 'max_leaf_nodes': 100, 'min_samples_leaf': 2, 'min_samples_split': 6, 'n_estimators': 225}\n",
            "1.2020133374254007 {'max_depth': 100, 'max_features': 6, 'max_leaf_nodes': 100, 'min_samples_leaf': 2, 'min_samples_split': 6, 'n_estimators': 250}\n",
            "1.2045844059835646 {'max_depth': 100, 'max_features': 6, 'max_leaf_nodes': 100, 'min_samples_leaf': 2, 'min_samples_split': 6, 'n_estimators': 275}\n",
            "1.2056059973378253 {'max_depth': 100, 'max_features': 6, 'max_leaf_nodes': 100, 'min_samples_leaf': 2, 'min_samples_split': 6, 'n_estimators': 300}\n",
            "1.2048253370169113 {'max_depth': 100, 'max_features': 6, 'max_leaf_nodes': 100, 'min_samples_leaf': 2, 'min_samples_split': 6, 'n_estimators': 325}\n",
            "1.2021811951465171 {'max_depth': 100, 'max_features': 6, 'max_leaf_nodes': 100, 'min_samples_leaf': 2, 'min_samples_split': 9, 'n_estimators': 200}\n",
            "1.2036001858138943 {'max_depth': 100, 'max_features': 6, 'max_leaf_nodes': 100, 'min_samples_leaf': 2, 'min_samples_split': 9, 'n_estimators': 225}\n",
            "1.2007018192208867 {'max_depth': 100, 'max_features': 6, 'max_leaf_nodes': 100, 'min_samples_leaf': 2, 'min_samples_split': 9, 'n_estimators': 250}\n",
            "1.2048253370169113 {'max_depth': 100, 'max_features': 6, 'max_leaf_nodes': 100, 'min_samples_leaf': 2, 'min_samples_split': 9, 'n_estimators': 275}\n",
            "1.2048253370169113 {'max_depth': 100, 'max_features': 6, 'max_leaf_nodes': 100, 'min_samples_leaf': 2, 'min_samples_split': 9, 'n_estimators': 300}\n",
            "1.2049168266305899 {'max_depth': 100, 'max_features': 6, 'max_leaf_nodes': 100, 'min_samples_leaf': 2, 'min_samples_split': 9, 'n_estimators': 325}\n",
            "1.204135820272366 {'max_depth': 100, 'max_features': 6, 'max_leaf_nodes': 150, 'min_samples_leaf': 1, 'min_samples_split': 3, 'n_estimators': 200}\n",
            "1.2034224753253544 {'max_depth': 100, 'max_features': 6, 'max_leaf_nodes': 150, 'min_samples_leaf': 1, 'min_samples_split': 3, 'n_estimators': 225}\n",
            "1.203743054220356 {'max_depth': 100, 'max_features': 6, 'max_leaf_nodes': 150, 'min_samples_leaf': 1, 'min_samples_split': 3, 'n_estimators': 250}\n",
            "1.2057311577073557 {'max_depth': 100, 'max_features': 6, 'max_leaf_nodes': 150, 'min_samples_leaf': 1, 'min_samples_split': 3, 'n_estimators': 275}\n",
            "1.2049631796622875 {'max_depth': 100, 'max_features': 6, 'max_leaf_nodes': 150, 'min_samples_leaf': 1, 'min_samples_split': 3, 'n_estimators': 300}\n",
            "1.2057897844075849 {'max_depth': 100, 'max_features': 6, 'max_leaf_nodes': 150, 'min_samples_leaf': 1, 'min_samples_split': 3, 'n_estimators': 325}\n",
            "1.201308736286034 {'max_depth': 100, 'max_features': 6, 'max_leaf_nodes': 150, 'min_samples_leaf': 1, 'min_samples_split': 6, 'n_estimators': 200}\n",
            "1.2016126650058656 {'max_depth': 100, 'max_features': 6, 'max_leaf_nodes': 150, 'min_samples_leaf': 1, 'min_samples_split': 6, 'n_estimators': 225}\n",
            "1.2034272416775926 {'max_depth': 100, 'max_features': 6, 'max_leaf_nodes': 150, 'min_samples_leaf': 1, 'min_samples_split': 6, 'n_estimators': 250}\n",
            "1.2049130685470435 {'max_depth': 100, 'max_features': 6, 'max_leaf_nodes': 150, 'min_samples_leaf': 1, 'min_samples_split': 6, 'n_estimators': 275}\n",
            "1.2049130685470435 {'max_depth': 100, 'max_features': 6, 'max_leaf_nodes': 150, 'min_samples_leaf': 1, 'min_samples_split': 6, 'n_estimators': 300}\n",
            "1.2059696270263967 {'max_depth': 100, 'max_features': 6, 'max_leaf_nodes': 150, 'min_samples_leaf': 1, 'min_samples_split': 6, 'n_estimators': 325}\n",
            "1.2020459697457282 {'max_depth': 100, 'max_features': 6, 'max_leaf_nodes': 150, 'min_samples_leaf': 1, 'min_samples_split': 9, 'n_estimators': 225}\n",
            "1.2039925116969894 {'max_depth': 100, 'max_features': 6, 'max_leaf_nodes': 150, 'min_samples_leaf': 1, 'min_samples_split': 9, 'n_estimators': 250}\n",
            "1.2077512226952272 {'max_depth': 100, 'max_features': 6, 'max_leaf_nodes': 150, 'min_samples_leaf': 1, 'min_samples_split': 9, 'n_estimators': 275}\n",
            "1.2047050872317737 {'max_depth': 100, 'max_features': 6, 'max_leaf_nodes': 150, 'min_samples_leaf': 1, 'min_samples_split': 9, 'n_estimators': 300}\n",
            "1.2068980385787176 {'max_depth': 100, 'max_features': 6, 'max_leaf_nodes': 150, 'min_samples_leaf': 1, 'min_samples_split': 9, 'n_estimators': 325}\n",
            "1.2042237162712168 {'max_depth': 100, 'max_features': 6, 'max_leaf_nodes': 150, 'min_samples_leaf': 2, 'min_samples_split': 3, 'n_estimators': 200}\n",
            "1.202285686503364 {'max_depth': 100, 'max_features': 6, 'max_leaf_nodes': 150, 'min_samples_leaf': 2, 'min_samples_split': 3, 'n_estimators': 225}\n",
            "1.2026025998110437 {'max_depth': 100, 'max_features': 6, 'max_leaf_nodes': 150, 'min_samples_leaf': 2, 'min_samples_split': 3, 'n_estimators': 250}\n",
            "1.202348847164882 {'max_depth': 100, 'max_features': 6, 'max_leaf_nodes': 150, 'min_samples_leaf': 2, 'min_samples_split': 3, 'n_estimators': 275}\n",
            "1.2034934449953367 {'max_depth': 100, 'max_features': 6, 'max_leaf_nodes': 150, 'min_samples_leaf': 2, 'min_samples_split': 3, 'n_estimators': 300}\n",
            "1.2034934449953367 {'max_depth': 100, 'max_features': 6, 'max_leaf_nodes': 150, 'min_samples_leaf': 2, 'min_samples_split': 3, 'n_estimators': 325}\n",
            "1.2000002466041169 {'max_depth': 100, 'max_features': 6, 'max_leaf_nodes': 150, 'min_samples_leaf': 2, 'min_samples_split': 6, 'n_estimators': 200}\n",
            "1.2041488492601498 {'max_depth': 100, 'max_features': 6, 'max_leaf_nodes': 150, 'min_samples_leaf': 2, 'min_samples_split': 6, 'n_estimators': 225}\n",
            "1.2020133374254007 {'max_depth': 100, 'max_features': 6, 'max_leaf_nodes': 150, 'min_samples_leaf': 2, 'min_samples_split': 6, 'n_estimators': 250}\n",
            "1.2045844059835646 {'max_depth': 100, 'max_features': 6, 'max_leaf_nodes': 150, 'min_samples_leaf': 2, 'min_samples_split': 6, 'n_estimators': 275}\n",
            "1.2056059973378253 {'max_depth': 100, 'max_features': 6, 'max_leaf_nodes': 150, 'min_samples_leaf': 2, 'min_samples_split': 6, 'n_estimators': 300}\n",
            "1.2048253370169113 {'max_depth': 100, 'max_features': 6, 'max_leaf_nodes': 150, 'min_samples_leaf': 2, 'min_samples_split': 6, 'n_estimators': 325}\n",
            "1.2021811951465171 {'max_depth': 100, 'max_features': 6, 'max_leaf_nodes': 150, 'min_samples_leaf': 2, 'min_samples_split': 9, 'n_estimators': 200}\n",
            "1.2036001858138943 {'max_depth': 100, 'max_features': 6, 'max_leaf_nodes': 150, 'min_samples_leaf': 2, 'min_samples_split': 9, 'n_estimators': 225}\n",
            "1.2007018192208867 {'max_depth': 100, 'max_features': 6, 'max_leaf_nodes': 150, 'min_samples_leaf': 2, 'min_samples_split': 9, 'n_estimators': 250}\n",
            "1.2048253370169113 {'max_depth': 100, 'max_features': 6, 'max_leaf_nodes': 150, 'min_samples_leaf': 2, 'min_samples_split': 9, 'n_estimators': 275}\n",
            "1.2048253370169113 {'max_depth': 100, 'max_features': 6, 'max_leaf_nodes': 150, 'min_samples_leaf': 2, 'min_samples_split': 9, 'n_estimators': 300}\n",
            "1.2049168266305899 {'max_depth': 100, 'max_features': 6, 'max_leaf_nodes': 150, 'min_samples_leaf': 2, 'min_samples_split': 9, 'n_estimators': 325}\n",
            "1.2062605157742763 {'max_depth': 100, 'max_features': 8, 'max_leaf_nodes': 100, 'min_samples_leaf': 1, 'min_samples_split': 3, 'n_estimators': 200}\n",
            "1.2070068663418534 {'max_depth': 100, 'max_features': 8, 'max_leaf_nodes': 100, 'min_samples_leaf': 1, 'min_samples_split': 3, 'n_estimators': 225}\n",
            "1.2083570618629402 {'max_depth': 100, 'max_features': 8, 'max_leaf_nodes': 100, 'min_samples_leaf': 1, 'min_samples_split': 3, 'n_estimators': 250}\n",
            "1.2097675890371204 {'max_depth': 100, 'max_features': 8, 'max_leaf_nodes': 100, 'min_samples_leaf': 1, 'min_samples_split': 3, 'n_estimators': 275}\n",
            "1.2074115150689988 {'max_depth': 100, 'max_features': 8, 'max_leaf_nodes': 100, 'min_samples_leaf': 1, 'min_samples_split': 3, 'n_estimators': 300}\n",
            "1.207276099934397 {'max_depth': 100, 'max_features': 8, 'max_leaf_nodes': 100, 'min_samples_leaf': 1, 'min_samples_split': 3, 'n_estimators': 325}\n",
            "1.2037461020141067 {'max_depth': 100, 'max_features': 8, 'max_leaf_nodes': 100, 'min_samples_leaf': 1, 'min_samples_split': 6, 'n_estimators': 200}\n",
            "1.2048691394095639 {'max_depth': 100, 'max_features': 8, 'max_leaf_nodes': 100, 'min_samples_leaf': 1, 'min_samples_split': 6, 'n_estimators': 225}\n",
            "1.2037461020141067 {'max_depth': 100, 'max_features': 8, 'max_leaf_nodes': 100, 'min_samples_leaf': 1, 'min_samples_split': 6, 'n_estimators': 250}\n",
            "1.203044805563367 {'max_depth': 100, 'max_features': 8, 'max_leaf_nodes': 100, 'min_samples_leaf': 1, 'min_samples_split': 6, 'n_estimators': 275}\n",
            "1.2056547232743218 {'max_depth': 100, 'max_features': 8, 'max_leaf_nodes': 100, 'min_samples_leaf': 1, 'min_samples_split': 6, 'n_estimators': 300}\n",
            "1.2056547232743218 {'max_depth': 100, 'max_features': 8, 'max_leaf_nodes': 100, 'min_samples_leaf': 1, 'min_samples_split': 6, 'n_estimators': 325}\n",
            "1.200709327023797 {'max_depth': 100, 'max_features': 8, 'max_leaf_nodes': 100, 'min_samples_leaf': 1, 'min_samples_split': 9, 'n_estimators': 200}\n",
            "1.2041006711307376 {'max_depth': 100, 'max_features': 8, 'max_leaf_nodes': 100, 'min_samples_leaf': 1, 'min_samples_split': 9, 'n_estimators': 225}\n",
            "1.204941395503397 {'max_depth': 100, 'max_features': 8, 'max_leaf_nodes': 100, 'min_samples_leaf': 1, 'min_samples_split': 9, 'n_estimators': 250}\n",
            "1.201967179676215 {'max_depth': 100, 'max_features': 8, 'max_leaf_nodes': 100, 'min_samples_leaf': 1, 'min_samples_split': 9, 'n_estimators': 275}\n",
            "1.2021851865555864 {'max_depth': 100, 'max_features': 8, 'max_leaf_nodes': 100, 'min_samples_leaf': 1, 'min_samples_split': 9, 'n_estimators': 300}\n",
            "1.2055931309427066 {'max_depth': 100, 'max_features': 8, 'max_leaf_nodes': 100, 'min_samples_leaf': 1, 'min_samples_split': 9, 'n_estimators': 325}\n",
            "1.2076482277238032 {'max_depth': 100, 'max_features': 8, 'max_leaf_nodes': 100, 'min_samples_leaf': 2, 'min_samples_split': 3, 'n_estimators': 200}\n",
            "1.2100040837820314 {'max_depth': 100, 'max_features': 8, 'max_leaf_nodes': 100, 'min_samples_leaf': 2, 'min_samples_split': 3, 'n_estimators': 225}\n",
            "1.2078446333826567 {'max_depth': 100, 'max_features': 8, 'max_leaf_nodes': 100, 'min_samples_leaf': 2, 'min_samples_split': 3, 'n_estimators': 250}\n",
            "1.2076201170197882 {'max_depth': 100, 'max_features': 8, 'max_leaf_nodes': 100, 'min_samples_leaf': 2, 'min_samples_split': 3, 'n_estimators': 275}\n",
            "1.2090772650974637 {'max_depth': 100, 'max_features': 8, 'max_leaf_nodes': 100, 'min_samples_leaf': 2, 'min_samples_split': 3, 'n_estimators': 300}\n",
            "1.2110281421913676 {'max_depth': 100, 'max_features': 8, 'max_leaf_nodes': 100, 'min_samples_leaf': 2, 'min_samples_split': 3, 'n_estimators': 325}\n",
            "1.2039502225373875 {'max_depth': 100, 'max_features': 8, 'max_leaf_nodes': 100, 'min_samples_leaf': 2, 'min_samples_split': 6, 'n_estimators': 200}\n",
            "1.2039502225373875 {'max_depth': 100, 'max_features': 8, 'max_leaf_nodes': 100, 'min_samples_leaf': 2, 'min_samples_split': 6, 'n_estimators': 225}\n",
            "1.205407370615063 {'max_depth': 100, 'max_features': 8, 'max_leaf_nodes': 100, 'min_samples_leaf': 2, 'min_samples_split': 6, 'n_estimators': 250}\n",
            "1.2042691522434608 {'max_depth': 100, 'max_features': 8, 'max_leaf_nodes': 100, 'min_samples_leaf': 2, 'min_samples_split': 6, 'n_estimators': 275}\n",
            "1.205407370615063 {'max_depth': 100, 'max_features': 8, 'max_leaf_nodes': 100, 'min_samples_leaf': 2, 'min_samples_split': 6, 'n_estimators': 300}\n",
            "1.203161673756445 {'max_depth': 100, 'max_features': 8, 'max_leaf_nodes': 100, 'min_samples_leaf': 2, 'min_samples_split': 6, 'n_estimators': 325}\n",
            "1.2003435893047816 {'max_depth': 100, 'max_features': 8, 'max_leaf_nodes': 100, 'min_samples_leaf': 2, 'min_samples_split': 9, 'n_estimators': 200}\n",
            "1.2003435893047816 {'max_depth': 100, 'max_features': 8, 'max_leaf_nodes': 100, 'min_samples_leaf': 2, 'min_samples_split': 9, 'n_estimators': 225}\n",
            "1.2029066609433525 {'max_depth': 100, 'max_features': 8, 'max_leaf_nodes': 100, 'min_samples_leaf': 2, 'min_samples_split': 9, 'n_estimators': 250}\n",
            "1.2032334032881065 {'max_depth': 100, 'max_features': 8, 'max_leaf_nodes': 100, 'min_samples_leaf': 2, 'min_samples_split': 9, 'n_estimators': 325}\n",
            "1.2062605157742763 {'max_depth': 100, 'max_features': 8, 'max_leaf_nodes': 150, 'min_samples_leaf': 1, 'min_samples_split': 3, 'n_estimators': 200}\n",
            "1.2070068663418534 {'max_depth': 100, 'max_features': 8, 'max_leaf_nodes': 150, 'min_samples_leaf': 1, 'min_samples_split': 3, 'n_estimators': 225}\n",
            "1.2083570618629402 {'max_depth': 100, 'max_features': 8, 'max_leaf_nodes': 150, 'min_samples_leaf': 1, 'min_samples_split': 3, 'n_estimators': 250}\n",
            "1.2097675890371204 {'max_depth': 100, 'max_features': 8, 'max_leaf_nodes': 150, 'min_samples_leaf': 1, 'min_samples_split': 3, 'n_estimators': 275}\n",
            "1.2074115150689988 {'max_depth': 100, 'max_features': 8, 'max_leaf_nodes': 150, 'min_samples_leaf': 1, 'min_samples_split': 3, 'n_estimators': 300}\n",
            "1.207276099934397 {'max_depth': 100, 'max_features': 8, 'max_leaf_nodes': 150, 'min_samples_leaf': 1, 'min_samples_split': 3, 'n_estimators': 325}\n",
            "1.2037461020141067 {'max_depth': 100, 'max_features': 8, 'max_leaf_nodes': 150, 'min_samples_leaf': 1, 'min_samples_split': 6, 'n_estimators': 200}\n",
            "1.2048691394095639 {'max_depth': 100, 'max_features': 8, 'max_leaf_nodes': 150, 'min_samples_leaf': 1, 'min_samples_split': 6, 'n_estimators': 225}\n",
            "1.2037461020141067 {'max_depth': 100, 'max_features': 8, 'max_leaf_nodes': 150, 'min_samples_leaf': 1, 'min_samples_split': 6, 'n_estimators': 250}\n",
            "1.203044805563367 {'max_depth': 100, 'max_features': 8, 'max_leaf_nodes': 150, 'min_samples_leaf': 1, 'min_samples_split': 6, 'n_estimators': 275}\n",
            "1.2056547232743218 {'max_depth': 100, 'max_features': 8, 'max_leaf_nodes': 150, 'min_samples_leaf': 1, 'min_samples_split': 6, 'n_estimators': 300}\n",
            "1.2056547232743218 {'max_depth': 100, 'max_features': 8, 'max_leaf_nodes': 150, 'min_samples_leaf': 1, 'min_samples_split': 6, 'n_estimators': 325}\n",
            "1.200709327023797 {'max_depth': 100, 'max_features': 8, 'max_leaf_nodes': 150, 'min_samples_leaf': 1, 'min_samples_split': 9, 'n_estimators': 200}\n",
            "1.2041006711307376 {'max_depth': 100, 'max_features': 8, 'max_leaf_nodes': 150, 'min_samples_leaf': 1, 'min_samples_split': 9, 'n_estimators': 225}\n",
            "1.204941395503397 {'max_depth': 100, 'max_features': 8, 'max_leaf_nodes': 150, 'min_samples_leaf': 1, 'min_samples_split': 9, 'n_estimators': 250}\n",
            "1.201967179676215 {'max_depth': 100, 'max_features': 8, 'max_leaf_nodes': 150, 'min_samples_leaf': 1, 'min_samples_split': 9, 'n_estimators': 275}\n",
            "1.2021851865555864 {'max_depth': 100, 'max_features': 8, 'max_leaf_nodes': 150, 'min_samples_leaf': 1, 'min_samples_split': 9, 'n_estimators': 300}\n",
            "1.2055931309427066 {'max_depth': 100, 'max_features': 8, 'max_leaf_nodes': 150, 'min_samples_leaf': 1, 'min_samples_split': 9, 'n_estimators': 325}\n",
            "1.2076482277238032 {'max_depth': 100, 'max_features': 8, 'max_leaf_nodes': 150, 'min_samples_leaf': 2, 'min_samples_split': 3, 'n_estimators': 200}\n",
            "1.2100040837820314 {'max_depth': 100, 'max_features': 8, 'max_leaf_nodes': 150, 'min_samples_leaf': 2, 'min_samples_split': 3, 'n_estimators': 225}\n",
            "1.2078446333826567 {'max_depth': 100, 'max_features': 8, 'max_leaf_nodes': 150, 'min_samples_leaf': 2, 'min_samples_split': 3, 'n_estimators': 250}\n",
            "1.2076201170197882 {'max_depth': 100, 'max_features': 8, 'max_leaf_nodes': 150, 'min_samples_leaf': 2, 'min_samples_split': 3, 'n_estimators': 275}\n",
            "1.2090772650974637 {'max_depth': 100, 'max_features': 8, 'max_leaf_nodes': 150, 'min_samples_leaf': 2, 'min_samples_split': 3, 'n_estimators': 300}\n",
            "1.2110281421913676 {'max_depth': 100, 'max_features': 8, 'max_leaf_nodes': 150, 'min_samples_leaf': 2, 'min_samples_split': 3, 'n_estimators': 325}\n",
            "1.2039502225373875 {'max_depth': 100, 'max_features': 8, 'max_leaf_nodes': 150, 'min_samples_leaf': 2, 'min_samples_split': 6, 'n_estimators': 200}\n",
            "1.2039502225373875 {'max_depth': 100, 'max_features': 8, 'max_leaf_nodes': 150, 'min_samples_leaf': 2, 'min_samples_split': 6, 'n_estimators': 225}\n",
            "1.205407370615063 {'max_depth': 100, 'max_features': 8, 'max_leaf_nodes': 150, 'min_samples_leaf': 2, 'min_samples_split': 6, 'n_estimators': 250}\n",
            "1.2042691522434608 {'max_depth': 100, 'max_features': 8, 'max_leaf_nodes': 150, 'min_samples_leaf': 2, 'min_samples_split': 6, 'n_estimators': 275}\n",
            "1.205407370615063 {'max_depth': 100, 'max_features': 8, 'max_leaf_nodes': 150, 'min_samples_leaf': 2, 'min_samples_split': 6, 'n_estimators': 300}\n",
            "1.203161673756445 {'max_depth': 100, 'max_features': 8, 'max_leaf_nodes': 150, 'min_samples_leaf': 2, 'min_samples_split': 6, 'n_estimators': 325}\n",
            "1.2003435893047816 {'max_depth': 100, 'max_features': 8, 'max_leaf_nodes': 150, 'min_samples_leaf': 2, 'min_samples_split': 9, 'n_estimators': 200}\n",
            "1.2003435893047816 {'max_depth': 100, 'max_features': 8, 'max_leaf_nodes': 150, 'min_samples_leaf': 2, 'min_samples_split': 9, 'n_estimators': 225}\n",
            "1.2029066609433525 {'max_depth': 100, 'max_features': 8, 'max_leaf_nodes': 150, 'min_samples_leaf': 2, 'min_samples_split': 9, 'n_estimators': 250}\n",
            "1.2032334032881065 {'max_depth': 100, 'max_features': 8, 'max_leaf_nodes': 150, 'min_samples_leaf': 2, 'min_samples_split': 9, 'n_estimators': 325}\n",
            "1.2024703665391963 {'max_depth': 100, 'max_features': 10, 'max_leaf_nodes': 100, 'min_samples_leaf': 1, 'min_samples_split': 3, 'n_estimators': 200}\n",
            "1.2036014580621104 {'max_depth': 100, 'max_features': 10, 'max_leaf_nodes': 100, 'min_samples_leaf': 1, 'min_samples_split': 3, 'n_estimators': 225}\n",
            "1.207170093322606 {'max_depth': 100, 'max_features': 10, 'max_leaf_nodes': 100, 'min_samples_leaf': 1, 'min_samples_split': 3, 'n_estimators': 250}\n",
            "1.2088703565406826 {'max_depth': 100, 'max_features': 10, 'max_leaf_nodes': 100, 'min_samples_leaf': 1, 'min_samples_split': 3, 'n_estimators': 275}\n",
            "1.2075094675344764 {'max_depth': 100, 'max_features': 10, 'max_leaf_nodes': 100, 'min_samples_leaf': 1, 'min_samples_split': 3, 'n_estimators': 300}\n",
            "1.2063893560324488 {'max_depth': 100, 'max_features': 10, 'max_leaf_nodes': 100, 'min_samples_leaf': 1, 'min_samples_split': 3, 'n_estimators': 325}\n",
            "1.2053548756568324 {'max_depth': 100, 'max_features': 10, 'max_leaf_nodes': 100, 'min_samples_leaf': 1, 'min_samples_split': 6, 'n_estimators': 200}\n",
            "1.2034050745381148 {'max_depth': 100, 'max_features': 10, 'max_leaf_nodes': 100, 'min_samples_leaf': 1, 'min_samples_split': 6, 'n_estimators': 225}\n",
            "1.2066725677335126 {'max_depth': 100, 'max_features': 10, 'max_leaf_nodes': 100, 'min_samples_leaf': 1, 'min_samples_split': 6, 'n_estimators': 250}\n",
            "1.2071227796940436 {'max_depth': 100, 'max_features': 10, 'max_leaf_nodes': 100, 'min_samples_leaf': 1, 'min_samples_split': 6, 'n_estimators': 275}\n",
            "1.206296293228969 {'max_depth': 100, 'max_features': 10, 'max_leaf_nodes': 100, 'min_samples_leaf': 1, 'min_samples_split': 6, 'n_estimators': 300}\n",
            "1.2041448092101752 {'max_depth': 100, 'max_features': 10, 'max_leaf_nodes': 100, 'min_samples_leaf': 1, 'min_samples_split': 6, 'n_estimators': 325}\n",
            "1.2025327644143196 {'max_depth': 100, 'max_features': 10, 'max_leaf_nodes': 100, 'min_samples_leaf': 1, 'min_samples_split': 9, 'n_estimators': 200}\n",
            "1.2025950225857112 {'max_depth': 100, 'max_features': 10, 'max_leaf_nodes': 100, 'min_samples_leaf': 1, 'min_samples_split': 9, 'n_estimators': 225}\n",
            "1.2047270031765671 {'max_depth': 100, 'max_features': 10, 'max_leaf_nodes': 100, 'min_samples_leaf': 1, 'min_samples_split': 9, 'n_estimators': 250}\n",
            "1.205955076051297 {'max_depth': 100, 'max_features': 10, 'max_leaf_nodes': 100, 'min_samples_leaf': 1, 'min_samples_split': 9, 'n_estimators': 275}\n",
            "1.2060450292800566 {'max_depth': 100, 'max_features': 10, 'max_leaf_nodes': 100, 'min_samples_leaf': 1, 'min_samples_split': 9, 'n_estimators': 300}\n",
            "1.2040278569039546 {'max_depth': 100, 'max_features': 10, 'max_leaf_nodes': 100, 'min_samples_leaf': 1, 'min_samples_split': 9, 'n_estimators': 325}\n",
            "1.2065592337677267 {'max_depth': 100, 'max_features': 10, 'max_leaf_nodes': 100, 'min_samples_leaf': 2, 'min_samples_split': 3, 'n_estimators': 200}\n",
            "1.2073852701240606 {'max_depth': 100, 'max_features': 10, 'max_leaf_nodes': 100, 'min_samples_leaf': 2, 'min_samples_split': 3, 'n_estimators': 225}\n",
            "1.2061999494126325 {'max_depth': 100, 'max_features': 10, 'max_leaf_nodes': 100, 'min_samples_leaf': 2, 'min_samples_split': 3, 'n_estimators': 250}\n",
            "1.2076973552423578 {'max_depth': 100, 'max_features': 10, 'max_leaf_nodes': 100, 'min_samples_leaf': 2, 'min_samples_split': 3, 'n_estimators': 275}\n",
            "1.2085055952460766 {'max_depth': 100, 'max_features': 10, 'max_leaf_nodes': 100, 'min_samples_leaf': 2, 'min_samples_split': 3, 'n_estimators': 300}\n",
            "1.210691456381657 {'max_depth': 100, 'max_features': 10, 'max_leaf_nodes': 100, 'min_samples_leaf': 2, 'min_samples_split': 3, 'n_estimators': 325}\n",
            "1.2072832907581394 {'max_depth': 100, 'max_features': 10, 'max_leaf_nodes': 100, 'min_samples_leaf': 2, 'min_samples_split': 6, 'n_estimators': 200}\n",
            "1.2072227935073119 {'max_depth': 100, 'max_features': 10, 'max_leaf_nodes': 100, 'min_samples_leaf': 2, 'min_samples_split': 6, 'n_estimators': 225}\n",
            "1.2052853646885098 {'max_depth': 100, 'max_features': 10, 'max_leaf_nodes': 100, 'min_samples_leaf': 2, 'min_samples_split': 6, 'n_estimators': 250}\n",
            "1.2043478057783676 {'max_depth': 100, 'max_features': 10, 'max_leaf_nodes': 100, 'min_samples_leaf': 2, 'min_samples_split': 6, 'n_estimators': 275}\n",
            "1.2054581775369533 {'max_depth': 100, 'max_features': 10, 'max_leaf_nodes': 100, 'min_samples_leaf': 2, 'min_samples_split': 6, 'n_estimators': 300}\n",
            "1.2054581775369533 {'max_depth': 100, 'max_features': 10, 'max_leaf_nodes': 100, 'min_samples_leaf': 2, 'min_samples_split': 6, 'n_estimators': 325}\n",
            "1.2050768481444083 {'max_depth': 100, 'max_features': 10, 'max_leaf_nodes': 100, 'min_samples_leaf': 2, 'min_samples_split': 9, 'n_estimators': 200}\n",
            "1.2072750253365174 {'max_depth': 100, 'max_features': 10, 'max_leaf_nodes': 100, 'min_samples_leaf': 2, 'min_samples_split': 9, 'n_estimators': 225}\n",
            "1.2070278408043698 {'max_depth': 100, 'max_features': 10, 'max_leaf_nodes': 100, 'min_samples_leaf': 2, 'min_samples_split': 9, 'n_estimators': 250}\n",
            "1.2062176094136399 {'max_depth': 100, 'max_features': 10, 'max_leaf_nodes': 100, 'min_samples_leaf': 2, 'min_samples_split': 9, 'n_estimators': 275}\n",
            "1.2034048278797445 {'max_depth': 100, 'max_features': 10, 'max_leaf_nodes': 100, 'min_samples_leaf': 2, 'min_samples_split': 9, 'n_estimators': 300}\n",
            "1.2051391893265417 {'max_depth': 100, 'max_features': 10, 'max_leaf_nodes': 100, 'min_samples_leaf': 2, 'min_samples_split': 9, 'n_estimators': 325}\n",
            "1.2024703665391963 {'max_depth': 100, 'max_features': 10, 'max_leaf_nodes': 150, 'min_samples_leaf': 1, 'min_samples_split': 3, 'n_estimators': 200}\n",
            "1.2036014580621104 {'max_depth': 100, 'max_features': 10, 'max_leaf_nodes': 150, 'min_samples_leaf': 1, 'min_samples_split': 3, 'n_estimators': 225}\n",
            "1.207170093322606 {'max_depth': 100, 'max_features': 10, 'max_leaf_nodes': 150, 'min_samples_leaf': 1, 'min_samples_split': 3, 'n_estimators': 250}\n",
            "1.2088703565406826 {'max_depth': 100, 'max_features': 10, 'max_leaf_nodes': 150, 'min_samples_leaf': 1, 'min_samples_split': 3, 'n_estimators': 275}\n",
            "1.2075094675344764 {'max_depth': 100, 'max_features': 10, 'max_leaf_nodes': 150, 'min_samples_leaf': 1, 'min_samples_split': 3, 'n_estimators': 300}\n",
            "1.2063893560324488 {'max_depth': 100, 'max_features': 10, 'max_leaf_nodes': 150, 'min_samples_leaf': 1, 'min_samples_split': 3, 'n_estimators': 325}\n",
            "1.2053548756568324 {'max_depth': 100, 'max_features': 10, 'max_leaf_nodes': 150, 'min_samples_leaf': 1, 'min_samples_split': 6, 'n_estimators': 200}\n",
            "1.2034050745381148 {'max_depth': 100, 'max_features': 10, 'max_leaf_nodes': 150, 'min_samples_leaf': 1, 'min_samples_split': 6, 'n_estimators': 225}\n",
            "1.2066725677335126 {'max_depth': 100, 'max_features': 10, 'max_leaf_nodes': 150, 'min_samples_leaf': 1, 'min_samples_split': 6, 'n_estimators': 250}\n",
            "1.2071227796940436 {'max_depth': 100, 'max_features': 10, 'max_leaf_nodes': 150, 'min_samples_leaf': 1, 'min_samples_split': 6, 'n_estimators': 275}\n",
            "1.206296293228969 {'max_depth': 100, 'max_features': 10, 'max_leaf_nodes': 150, 'min_samples_leaf': 1, 'min_samples_split': 6, 'n_estimators': 300}\n",
            "1.2041448092101752 {'max_depth': 100, 'max_features': 10, 'max_leaf_nodes': 150, 'min_samples_leaf': 1, 'min_samples_split': 6, 'n_estimators': 325}\n",
            "1.2025327644143196 {'max_depth': 100, 'max_features': 10, 'max_leaf_nodes': 150, 'min_samples_leaf': 1, 'min_samples_split': 9, 'n_estimators': 200}\n",
            "1.2025950225857112 {'max_depth': 100, 'max_features': 10, 'max_leaf_nodes': 150, 'min_samples_leaf': 1, 'min_samples_split': 9, 'n_estimators': 225}\n",
            "1.2047270031765671 {'max_depth': 100, 'max_features': 10, 'max_leaf_nodes': 150, 'min_samples_leaf': 1, 'min_samples_split': 9, 'n_estimators': 250}\n",
            "1.205955076051297 {'max_depth': 100, 'max_features': 10, 'max_leaf_nodes': 150, 'min_samples_leaf': 1, 'min_samples_split': 9, 'n_estimators': 275}\n",
            "1.2060450292800566 {'max_depth': 100, 'max_features': 10, 'max_leaf_nodes': 150, 'min_samples_leaf': 1, 'min_samples_split': 9, 'n_estimators': 300}\n",
            "1.2040278569039546 {'max_depth': 100, 'max_features': 10, 'max_leaf_nodes': 150, 'min_samples_leaf': 1, 'min_samples_split': 9, 'n_estimators': 325}\n",
            "1.2065592337677267 {'max_depth': 100, 'max_features': 10, 'max_leaf_nodes': 150, 'min_samples_leaf': 2, 'min_samples_split': 3, 'n_estimators': 200}\n",
            "1.2073852701240606 {'max_depth': 100, 'max_features': 10, 'max_leaf_nodes': 150, 'min_samples_leaf': 2, 'min_samples_split': 3, 'n_estimators': 225}\n",
            "1.2061999494126325 {'max_depth': 100, 'max_features': 10, 'max_leaf_nodes': 150, 'min_samples_leaf': 2, 'min_samples_split': 3, 'n_estimators': 250}\n",
            "1.2076973552423578 {'max_depth': 100, 'max_features': 10, 'max_leaf_nodes': 150, 'min_samples_leaf': 2, 'min_samples_split': 3, 'n_estimators': 275}\n",
            "1.2085055952460766 {'max_depth': 100, 'max_features': 10, 'max_leaf_nodes': 150, 'min_samples_leaf': 2, 'min_samples_split': 3, 'n_estimators': 300}\n",
            "1.210691456381657 {'max_depth': 100, 'max_features': 10, 'max_leaf_nodes': 150, 'min_samples_leaf': 2, 'min_samples_split': 3, 'n_estimators': 325}\n",
            "1.2072832907581394 {'max_depth': 100, 'max_features': 10, 'max_leaf_nodes': 150, 'min_samples_leaf': 2, 'min_samples_split': 6, 'n_estimators': 200}\n",
            "1.2072227935073119 {'max_depth': 100, 'max_features': 10, 'max_leaf_nodes': 150, 'min_samples_leaf': 2, 'min_samples_split': 6, 'n_estimators': 225}\n",
            "1.2052853646885098 {'max_depth': 100, 'max_features': 10, 'max_leaf_nodes': 150, 'min_samples_leaf': 2, 'min_samples_split': 6, 'n_estimators': 250}\n",
            "1.2043478057783676 {'max_depth': 100, 'max_features': 10, 'max_leaf_nodes': 150, 'min_samples_leaf': 2, 'min_samples_split': 6, 'n_estimators': 275}\n",
            "1.2054581775369533 {'max_depth': 100, 'max_features': 10, 'max_leaf_nodes': 150, 'min_samples_leaf': 2, 'min_samples_split': 6, 'n_estimators': 300}\n",
            "1.2054581775369533 {'max_depth': 100, 'max_features': 10, 'max_leaf_nodes': 150, 'min_samples_leaf': 2, 'min_samples_split': 6, 'n_estimators': 325}\n",
            "1.2050768481444083 {'max_depth': 100, 'max_features': 10, 'max_leaf_nodes': 150, 'min_samples_leaf': 2, 'min_samples_split': 9, 'n_estimators': 200}\n",
            "1.2072750253365174 {'max_depth': 100, 'max_features': 10, 'max_leaf_nodes': 150, 'min_samples_leaf': 2, 'min_samples_split': 9, 'n_estimators': 225}\n",
            "1.2070278408043698 {'max_depth': 100, 'max_features': 10, 'max_leaf_nodes': 150, 'min_samples_leaf': 2, 'min_samples_split': 9, 'n_estimators': 250}\n",
            "1.2062176094136399 {'max_depth': 100, 'max_features': 10, 'max_leaf_nodes': 150, 'min_samples_leaf': 2, 'min_samples_split': 9, 'n_estimators': 275}\n",
            "1.2034048278797445 {'max_depth': 100, 'max_features': 10, 'max_leaf_nodes': 150, 'min_samples_leaf': 2, 'min_samples_split': 9, 'n_estimators': 300}\n",
            "1.2051391893265417 {'max_depth': 100, 'max_features': 10, 'max_leaf_nodes': 150, 'min_samples_leaf': 2, 'min_samples_split': 9, 'n_estimators': 325}\n",
            "1.2083790549742408 {'max_depth': 100, 'max_features': 12, 'max_leaf_nodes': 100, 'min_samples_leaf': 1, 'min_samples_split': 3, 'n_estimators': 200}\n",
            "1.2064804483064941 {'max_depth': 100, 'max_features': 12, 'max_leaf_nodes': 100, 'min_samples_leaf': 1, 'min_samples_split': 3, 'n_estimators': 225}\n",
            "1.2091829523389648 {'max_depth': 100, 'max_features': 12, 'max_leaf_nodes': 100, 'min_samples_leaf': 1, 'min_samples_split': 3, 'n_estimators': 250}\n",
            "1.2035735609697304 {'max_depth': 100, 'max_features': 12, 'max_leaf_nodes': 100, 'min_samples_leaf': 1, 'min_samples_split': 3, 'n_estimators': 275}\n",
            "1.2006123100445958 {'max_depth': 100, 'max_features': 12, 'max_leaf_nodes': 100, 'min_samples_leaf': 1, 'min_samples_split': 3, 'n_estimators': 300}\n",
            "1.2038782171087363 {'max_depth': 100, 'max_features': 12, 'max_leaf_nodes': 100, 'min_samples_leaf': 1, 'min_samples_split': 3, 'n_estimators': 325}\n",
            "1.200362691825465 {'max_depth': 100, 'max_features': 12, 'max_leaf_nodes': 100, 'min_samples_leaf': 1, 'min_samples_split': 9, 'n_estimators': 225}\n",
            "1.200362691825465 {'max_depth': 100, 'max_features': 12, 'max_leaf_nodes': 100, 'min_samples_leaf': 1, 'min_samples_split': 9, 'n_estimators': 250}\n",
            "1.2024562441431308 {'max_depth': 100, 'max_features': 12, 'max_leaf_nodes': 100, 'min_samples_leaf': 1, 'min_samples_split': 9, 'n_estimators': 300}\n",
            "1.2025391416081352 {'max_depth': 100, 'max_features': 12, 'max_leaf_nodes': 100, 'min_samples_leaf': 2, 'min_samples_split': 3, 'n_estimators': 200}\n",
            "1.2011490120085333 {'max_depth': 100, 'max_features': 12, 'max_leaf_nodes': 100, 'min_samples_leaf': 2, 'min_samples_split': 3, 'n_estimators': 225}\n",
            "1.2041495752658469 {'max_depth': 100, 'max_features': 12, 'max_leaf_nodes': 100, 'min_samples_leaf': 2, 'min_samples_split': 3, 'n_estimators': 250}\n",
            "1.2019746802999511 {'max_depth': 100, 'max_features': 12, 'max_leaf_nodes': 100, 'min_samples_leaf': 2, 'min_samples_split': 3, 'n_estimators': 275}\n",
            "1.2015618780140314 {'max_depth': 100, 'max_features': 12, 'max_leaf_nodes': 100, 'min_samples_leaf': 2, 'min_samples_split': 3, 'n_estimators': 300}\n",
            "1.20526483669144 {'max_depth': 100, 'max_features': 12, 'max_leaf_nodes': 100, 'min_samples_leaf': 2, 'min_samples_split': 3, 'n_estimators': 325}\n",
            "1.2052052118968954 {'max_depth': 100, 'max_features': 12, 'max_leaf_nodes': 100, 'min_samples_leaf': 2, 'min_samples_split': 6, 'n_estimators': 200}\n",
            "1.20409484013831 {'max_depth': 100, 'max_features': 12, 'max_leaf_nodes': 100, 'min_samples_leaf': 2, 'min_samples_split': 6, 'n_estimators': 225}\n",
            "1.203462429142476 {'max_depth': 100, 'max_features': 12, 'max_leaf_nodes': 100, 'min_samples_leaf': 2, 'min_samples_split': 6, 'n_estimators': 250}\n",
            "1.2016626203064846 {'max_depth': 100, 'max_features': 12, 'max_leaf_nodes': 100, 'min_samples_leaf': 2, 'min_samples_split': 6, 'n_estimators': 275}\n",
            "1.2046006475140785 {'max_depth': 100, 'max_features': 12, 'max_leaf_nodes': 100, 'min_samples_leaf': 2, 'min_samples_split': 6, 'n_estimators': 300}\n",
            "1.2053640755306358 {'max_depth': 100, 'max_features': 12, 'max_leaf_nodes': 100, 'min_samples_leaf': 2, 'min_samples_split': 6, 'n_estimators': 325}\n",
            "1.2002552997271057 {'max_depth': 100, 'max_features': 12, 'max_leaf_nodes': 100, 'min_samples_leaf': 2, 'min_samples_split': 9, 'n_estimators': 200}\n",
            "1.2036348207038663 {'max_depth': 100, 'max_features': 12, 'max_leaf_nodes': 100, 'min_samples_leaf': 2, 'min_samples_split': 9, 'n_estimators': 225}\n",
            "1.2036348207038663 {'max_depth': 100, 'max_features': 12, 'max_leaf_nodes': 100, 'min_samples_leaf': 2, 'min_samples_split': 9, 'n_estimators': 250}\n",
            "1.2030586879153116 {'max_depth': 100, 'max_features': 12, 'max_leaf_nodes': 100, 'min_samples_leaf': 2, 'min_samples_split': 9, 'n_estimators': 275}\n",
            "1.2030586879153116 {'max_depth': 100, 'max_features': 12, 'max_leaf_nodes': 100, 'min_samples_leaf': 2, 'min_samples_split': 9, 'n_estimators': 300}\n",
            "1.201948316156726 {'max_depth': 100, 'max_features': 12, 'max_leaf_nodes': 100, 'min_samples_leaf': 2, 'min_samples_split': 9, 'n_estimators': 325}\n",
            "1.2083790549742408 {'max_depth': 100, 'max_features': 12, 'max_leaf_nodes': 150, 'min_samples_leaf': 1, 'min_samples_split': 3, 'n_estimators': 200}\n",
            "1.2064804483064941 {'max_depth': 100, 'max_features': 12, 'max_leaf_nodes': 150, 'min_samples_leaf': 1, 'min_samples_split': 3, 'n_estimators': 225}\n",
            "1.2091829523389648 {'max_depth': 100, 'max_features': 12, 'max_leaf_nodes': 150, 'min_samples_leaf': 1, 'min_samples_split': 3, 'n_estimators': 250}\n",
            "1.2035735609697304 {'max_depth': 100, 'max_features': 12, 'max_leaf_nodes': 150, 'min_samples_leaf': 1, 'min_samples_split': 3, 'n_estimators': 275}\n",
            "1.2006123100445958 {'max_depth': 100, 'max_features': 12, 'max_leaf_nodes': 150, 'min_samples_leaf': 1, 'min_samples_split': 3, 'n_estimators': 300}\n",
            "1.2038782171087363 {'max_depth': 100, 'max_features': 12, 'max_leaf_nodes': 150, 'min_samples_leaf': 1, 'min_samples_split': 3, 'n_estimators': 325}\n",
            "1.200362691825465 {'max_depth': 100, 'max_features': 12, 'max_leaf_nodes': 150, 'min_samples_leaf': 1, 'min_samples_split': 9, 'n_estimators': 225}\n",
            "1.200362691825465 {'max_depth': 100, 'max_features': 12, 'max_leaf_nodes': 150, 'min_samples_leaf': 1, 'min_samples_split': 9, 'n_estimators': 250}\n",
            "1.2024562441431308 {'max_depth': 100, 'max_features': 12, 'max_leaf_nodes': 150, 'min_samples_leaf': 1, 'min_samples_split': 9, 'n_estimators': 300}\n",
            "1.2025391416081352 {'max_depth': 100, 'max_features': 12, 'max_leaf_nodes': 150, 'min_samples_leaf': 2, 'min_samples_split': 3, 'n_estimators': 200}\n",
            "1.2011490120085333 {'max_depth': 100, 'max_features': 12, 'max_leaf_nodes': 150, 'min_samples_leaf': 2, 'min_samples_split': 3, 'n_estimators': 225}\n",
            "1.2041495752658469 {'max_depth': 100, 'max_features': 12, 'max_leaf_nodes': 150, 'min_samples_leaf': 2, 'min_samples_split': 3, 'n_estimators': 250}\n",
            "1.2019746802999511 {'max_depth': 100, 'max_features': 12, 'max_leaf_nodes': 150, 'min_samples_leaf': 2, 'min_samples_split': 3, 'n_estimators': 275}\n",
            "1.2015618780140314 {'max_depth': 100, 'max_features': 12, 'max_leaf_nodes': 150, 'min_samples_leaf': 2, 'min_samples_split': 3, 'n_estimators': 300}\n",
            "1.20526483669144 {'max_depth': 100, 'max_features': 12, 'max_leaf_nodes': 150, 'min_samples_leaf': 2, 'min_samples_split': 3, 'n_estimators': 325}\n",
            "1.2052052118968954 {'max_depth': 100, 'max_features': 12, 'max_leaf_nodes': 150, 'min_samples_leaf': 2, 'min_samples_split': 6, 'n_estimators': 200}\n",
            "1.20409484013831 {'max_depth': 100, 'max_features': 12, 'max_leaf_nodes': 150, 'min_samples_leaf': 2, 'min_samples_split': 6, 'n_estimators': 225}\n",
            "1.203462429142476 {'max_depth': 100, 'max_features': 12, 'max_leaf_nodes': 150, 'min_samples_leaf': 2, 'min_samples_split': 6, 'n_estimators': 250}\n",
            "1.2016626203064846 {'max_depth': 100, 'max_features': 12, 'max_leaf_nodes': 150, 'min_samples_leaf': 2, 'min_samples_split': 6, 'n_estimators': 275}\n",
            "1.2046006475140785 {'max_depth': 100, 'max_features': 12, 'max_leaf_nodes': 150, 'min_samples_leaf': 2, 'min_samples_split': 6, 'n_estimators': 300}\n",
            "1.2053640755306358 {'max_depth': 100, 'max_features': 12, 'max_leaf_nodes': 150, 'min_samples_leaf': 2, 'min_samples_split': 6, 'n_estimators': 325}\n",
            "1.2002552997271057 {'max_depth': 100, 'max_features': 12, 'max_leaf_nodes': 150, 'min_samples_leaf': 2, 'min_samples_split': 9, 'n_estimators': 200}\n",
            "1.2036348207038663 {'max_depth': 100, 'max_features': 12, 'max_leaf_nodes': 150, 'min_samples_leaf': 2, 'min_samples_split': 9, 'n_estimators': 225}\n",
            "1.2036348207038663 {'max_depth': 100, 'max_features': 12, 'max_leaf_nodes': 150, 'min_samples_leaf': 2, 'min_samples_split': 9, 'n_estimators': 250}\n",
            "1.2030586879153116 {'max_depth': 100, 'max_features': 12, 'max_leaf_nodes': 150, 'min_samples_leaf': 2, 'min_samples_split': 9, 'n_estimators': 275}\n",
            "1.2030586879153116 {'max_depth': 100, 'max_features': 12, 'max_leaf_nodes': 150, 'min_samples_leaf': 2, 'min_samples_split': 9, 'n_estimators': 300}\n",
            "1.201948316156726 {'max_depth': 100, 'max_features': 12, 'max_leaf_nodes': 150, 'min_samples_leaf': 2, 'min_samples_split': 9, 'n_estimators': 325}\n",
            "1.2000729137056805 {'max_depth': 100, 'max_features': 14, 'max_leaf_nodes': 100, 'min_samples_leaf': 2, 'min_samples_split': 9, 'n_estimators': 300}\n",
            "1.2000729137056805 {'max_depth': 100, 'max_features': 14, 'max_leaf_nodes': 150, 'min_samples_leaf': 2, 'min_samples_split': 9, 'n_estimators': 300}\n",
            "Best Parameters:  {'max_depth': 80, 'max_features': 8, 'max_leaf_nodes': 100, 'min_samples_leaf': 2, 'min_samples_split': 3, 'n_estimators': 325}\n"
          ],
          "name": "stdout"
        }
      ]
    },
    {
      "cell_type": "markdown",
      "metadata": {
        "id": "zRghbyD-3h6u"
      },
      "source": [
        "##Best Model."
      ]
    },
    {
      "cell_type": "code",
      "metadata": {
        "colab": {
          "base_uri": "https://localhost:8080/"
        },
        "id": "UT26wcNp1msd",
        "outputId": "c9d3f763-5197-45f9-d382-c7feb85eb4d1"
      },
      "source": [
        "forest_clf = RandomForestClassifier(max_depth= 80, max_features= 8, max_leaf_nodes= 100, min_samples_leaf= 2, min_samples_split= 3, n_estimators= 325, random_state=32)\n",
        "\n",
        "forest_clf.fit(train_prepared, train_label)\n",
        "\n",
        "y_pred = forest_clf.predict(test_prepared)\n",
        "print(\"Random Forest Accuracy: \", accuracy_score(test_label, y_pred))\n",
        "clf_scores(test_label, y_pred);"
      ],
      "execution_count": null,
      "outputs": [
        {
          "output_type": "stream",
          "text": [
            "Random Forest Accuracy:  0.9507042253521126\n",
            "Confusion Matrix:\n",
            " [[325   6   2]\n",
            " [ 10  53   1]\n",
            " [  1   1  27]]\n",
            "Precision:\n",
            " [0.9672619  0.88333333 0.9       ] \n",
            "Recall:\n",
            " [0.97597598 0.828125   0.93103448] \n",
            "F1 Score:\n",
            " [0.9715994  0.85483871 0.91525424] \n",
            "\n"
          ],
          "name": "stdout"
        }
      ]
    },
    {
      "cell_type": "markdown",
      "metadata": {
        "id": "kXOMMj6g1w1l"
      },
      "source": [
        "We see that this model has indeed achieved a greater recall for class 3 than for any other class. The weights of the f2 scoring function may also be adjusted to increase this recall even further, but at the loss of precision."
      ]
    },
    {
      "cell_type": "code",
      "metadata": {
        "id": "_paLJa0zLFp9"
      },
      "source": [
        ""
      ],
      "execution_count": null,
      "outputs": []
    },
    {
      "cell_type": "markdown",
      "metadata": {
        "id": "cDhtb7gLGBPL"
      },
      "source": [
        "# ANN "
      ]
    },
    {
      "cell_type": "markdown",
      "metadata": {
        "id": "pPT4HYM4HZg5"
      },
      "source": [
        "Let's relabel the data to be 0, 1, or 2 instead of 1, 2, or 3. This is because the ANN will end with a dense 3 layer using softmax activation, so it will automatically assume values are 0, 1, or 2."
      ]
    },
    {
      "cell_type": "code",
      "metadata": {
        "colab": {
          "base_uri": "https://localhost:8080/"
        },
        "id": "pDWEDkulOvKW",
        "outputId": "6ed4ae1a-a408-4c4b-c6a8-d8c7948cf2d2"
      },
      "source": [
        "from keras.utils.np_utils import to_categorical   \n",
        "\n",
        "ann_train_labels = train_label-1 #012 instead of 123\n",
        "ann_test_labels = test_label-1\n",
        "print(ann_train_labels.shape, ann_test_labels.shape)\n",
        "\n"
      ],
      "execution_count": null,
      "outputs": [
        {
          "output_type": "stream",
          "text": [
            "(1700,) (426,)\n"
          ],
          "name": "stdout"
        }
      ]
    },
    {
      "cell_type": "markdown",
      "metadata": {
        "id": "qukDZjeCHC-Y"
      },
      "source": [
        "Let's make a function to create a nueral net, this way it can be passed to a gridsearch function."
      ]
    },
    {
      "cell_type": "code",
      "metadata": {
        "id": "sHCH4MBR6KYn"
      },
      "source": [
        "import tensorflow as tf\n",
        "from tensorflow import keras\n",
        "\n",
        "def SM(ns=[128], ACTs=['relu'], dws=[0.2], opt = keras.optimizers.Nadam()):\n",
        "        if len(ns)!= len(ACTs) or len(ACTs) != len(dws):\n",
        "          print(\"input list lengths must be equal\")\n",
        "          return\n",
        "\n",
        "        model = keras.models.Sequential()\n",
        "        model.add(keras.layers.Flatten(input_shape=[21]))\n",
        "\n",
        "        for i in range(len(ns)):\n",
        "          model.add(keras.layers.Dense(ns[i], activation=ACTs[i]))\n",
        "          if dws[i]==0: pass\n",
        "          model.add(keras.layers.Dropout(dws[i]))    \n",
        "\n",
        "        model.add(keras.layers.Dense(3, activation='softmax'))\n",
        "\n",
        "        model.compile(optimizer=opt,loss=\"sparse_categorical_crossentropy\", metrics=['accuracy'])\n",
        "        return model"
      ],
      "execution_count": null,
      "outputs": []
    },
    {
      "cell_type": "markdown",
      "metadata": {
        "id": "HC3DkCIL7RC7"
      },
      "source": [
        "Gridsearch time! Note the metric being used is the f2 score, our function defined above to maximize recall for the pathological class.\n",
        "\n",
        "\n"
      ]
    },
    {
      "cell_type": "code",
      "metadata": {
        "colab": {
          "base_uri": "https://localhost:8080/"
        },
        "id": "nanCzz2j6f2I",
        "outputId": "7c830594-0378-4941-8f60-fd25903b011e"
      },
      "source": [
        "from keras.wrappers.scikit_learn import KerasClassifier\n",
        "from sklearn.model_selection import GridSearchCV\n",
        "\n",
        "model = KerasClassifier(build_fn=SM, epochs = 50, verbose=0)\n",
        "\n",
        "pipe = Pipeline([\n",
        "    ('model', model)\n",
        "])\n",
        "\n",
        "\n",
        "param_grid = dict(ns = [(768,768,768),(256,256,256),(512,512,512)],\n",
        "                  ACTs=[('relu','relu','relu')], \n",
        "                  dws = [(0.0,0.0,0.0),(0.0,0.3, 0.3),(0.2,0.2, 0.2),(0.0,0.1, 0.3), (0.3,0.1,0)],\n",
        "                  epochs = [25, 50,75])\n",
        "\n",
        "grid = GridSearchCV(estimator = model, param_grid=param_grid, cv=5, scoring=f2_score, return_train_score=True)\n",
        "grid_result = grid.fit(train_prepared, ann_train_labels)\n",
        "\n",
        "print(\"Best: %f using %s\" % (grid_result.best_score_, grid_result.best_params_))\n",
        "\n"
      ],
      "execution_count": null,
      "outputs": [
        {
          "output_type": "stream",
          "text": [
            "/usr/local/lib/python3.7/dist-packages/tensorflow/python/keras/engine/sequential.py:450: UserWarning: `model.predict_classes()` is deprecated and will be removed after 2021-01-01. Please use instead:* `np.argmax(model.predict(x), axis=-1)`,   if your model does multi-class classification   (e.g. if it uses a `softmax` last-layer activation).* `(model.predict(x) > 0.5).astype(\"int32\")`,   if your model does binary classification   (e.g. if it uses a `sigmoid` last-layer activation).\n",
            "  warnings.warn('`model.predict_classes()` is deprecated and '\n"
          ],
          "name": "stderr"
        },
        {
          "output_type": "stream",
          "text": [
            "Best: 0.884211 using {'ACTs': ('relu', 'relu', 'relu'), 'dws': (0.2, 0.2, 0.2), 'epochs': 25, 'ns': (512, 512, 512)}\n"
          ],
          "name": "stdout"
        }
      ]
    },
    {
      "cell_type": "markdown",
      "metadata": {
        "id": "XCu_iVdpIDzC"
      },
      "source": [
        "Let's print the scores so we can get an idea of how different parameters impact the f2 score."
      ]
    },
    {
      "cell_type": "code",
      "metadata": {
        "colab": {
          "base_uri": "https://localhost:8080/"
        },
        "id": "T2h0yBOwBpas",
        "outputId": "cea678d2-2fc4-4384-88c8-daafae8ae750"
      },
      "source": [
        "means = grid_result.cv_results_['mean_test_score']\n",
        "stds = grid_result.cv_results_['std_test_score']\n",
        "params = grid_result.cv_results_['params']\n",
        "for mean, stdev, param in zip(means, stds, params):\n",
        "    print(\"%f (%f) with: %r\" % (mean, stdev, param))"
      ],
      "execution_count": null,
      "outputs": [
        {
          "output_type": "stream",
          "text": [
            "0.847582 (0.051272) with: {'ACTs': ('relu', 'relu', 'relu'), 'dws': (0.0, 0.0, 0.0), 'epochs': 25, 'ns': (768, 768, 768)}\n",
            "0.841998 (0.052827) with: {'ACTs': ('relu', 'relu', 'relu'), 'dws': (0.0, 0.0, 0.0), 'epochs': 25, 'ns': (256, 256, 256)}\n",
            "0.845753 (0.032541) with: {'ACTs': ('relu', 'relu', 'relu'), 'dws': (0.0, 0.0, 0.0), 'epochs': 25, 'ns': (512, 512, 512)}\n",
            "0.858646 (0.033205) with: {'ACTs': ('relu', 'relu', 'relu'), 'dws': (0.0, 0.0, 0.0), 'epochs': 50, 'ns': (768, 768, 768)}\n",
            "0.841205 (0.036336) with: {'ACTs': ('relu', 'relu', 'relu'), 'dws': (0.0, 0.0, 0.0), 'epochs': 50, 'ns': (256, 256, 256)}\n",
            "0.842881 (0.049662) with: {'ACTs': ('relu', 'relu', 'relu'), 'dws': (0.0, 0.0, 0.0), 'epochs': 50, 'ns': (512, 512, 512)}\n",
            "0.843027 (0.049944) with: {'ACTs': ('relu', 'relu', 'relu'), 'dws': (0.0, 0.0, 0.0), 'epochs': 75, 'ns': (768, 768, 768)}\n",
            "0.867910 (0.028214) with: {'ACTs': ('relu', 'relu', 'relu'), 'dws': (0.0, 0.0, 0.0), 'epochs': 75, 'ns': (256, 256, 256)}\n",
            "0.849350 (0.039256) with: {'ACTs': ('relu', 'relu', 'relu'), 'dws': (0.0, 0.0, 0.0), 'epochs': 75, 'ns': (512, 512, 512)}\n",
            "0.856325 (0.046431) with: {'ACTs': ('relu', 'relu', 'relu'), 'dws': (0.0, 0.3, 0.3), 'epochs': 25, 'ns': (768, 768, 768)}\n",
            "0.841440 (0.024713) with: {'ACTs': ('relu', 'relu', 'relu'), 'dws': (0.0, 0.3, 0.3), 'epochs': 25, 'ns': (256, 256, 256)}\n",
            "0.866266 (0.031790) with: {'ACTs': ('relu', 'relu', 'relu'), 'dws': (0.0, 0.3, 0.3), 'epochs': 25, 'ns': (512, 512, 512)}\n",
            "0.860238 (0.025433) with: {'ACTs': ('relu', 'relu', 'relu'), 'dws': (0.0, 0.3, 0.3), 'epochs': 50, 'ns': (768, 768, 768)}\n",
            "0.856019 (0.022465) with: {'ACTs': ('relu', 'relu', 'relu'), 'dws': (0.0, 0.3, 0.3), 'epochs': 50, 'ns': (256, 256, 256)}\n",
            "0.876054 (0.028743) with: {'ACTs': ('relu', 'relu', 'relu'), 'dws': (0.0, 0.3, 0.3), 'epochs': 50, 'ns': (512, 512, 512)}\n",
            "0.879819 (0.021747) with: {'ACTs': ('relu', 'relu', 'relu'), 'dws': (0.0, 0.3, 0.3), 'epochs': 75, 'ns': (768, 768, 768)}\n",
            "0.848658 (0.047758) with: {'ACTs': ('relu', 'relu', 'relu'), 'dws': (0.0, 0.3, 0.3), 'epochs': 75, 'ns': (256, 256, 256)}\n",
            "0.846210 (0.043412) with: {'ACTs': ('relu', 'relu', 'relu'), 'dws': (0.0, 0.3, 0.3), 'epochs': 75, 'ns': (512, 512, 512)}\n",
            "0.872538 (0.010118) with: {'ACTs': ('relu', 'relu', 'relu'), 'dws': (0.2, 0.2, 0.2), 'epochs': 25, 'ns': (768, 768, 768)}\n",
            "0.863484 (0.040131) with: {'ACTs': ('relu', 'relu', 'relu'), 'dws': (0.2, 0.2, 0.2), 'epochs': 25, 'ns': (256, 256, 256)}\n",
            "0.884211 (0.027102) with: {'ACTs': ('relu', 'relu', 'relu'), 'dws': (0.2, 0.2, 0.2), 'epochs': 25, 'ns': (512, 512, 512)}\n",
            "0.862034 (0.023395) with: {'ACTs': ('relu', 'relu', 'relu'), 'dws': (0.2, 0.2, 0.2), 'epochs': 50, 'ns': (768, 768, 768)}\n",
            "0.876509 (0.017116) with: {'ACTs': ('relu', 'relu', 'relu'), 'dws': (0.2, 0.2, 0.2), 'epochs': 50, 'ns': (256, 256, 256)}\n",
            "0.851291 (0.030904) with: {'ACTs': ('relu', 'relu', 'relu'), 'dws': (0.2, 0.2, 0.2), 'epochs': 50, 'ns': (512, 512, 512)}\n",
            "0.848593 (0.023609) with: {'ACTs': ('relu', 'relu', 'relu'), 'dws': (0.2, 0.2, 0.2), 'epochs': 75, 'ns': (768, 768, 768)}\n",
            "0.873555 (0.025516) with: {'ACTs': ('relu', 'relu', 'relu'), 'dws': (0.2, 0.2, 0.2), 'epochs': 75, 'ns': (256, 256, 256)}\n",
            "0.853402 (0.049199) with: {'ACTs': ('relu', 'relu', 'relu'), 'dws': (0.2, 0.2, 0.2), 'epochs': 75, 'ns': (512, 512, 512)}\n",
            "0.860346 (0.033281) with: {'ACTs': ('relu', 'relu', 'relu'), 'dws': (0.0, 0.1, 0.3), 'epochs': 25, 'ns': (768, 768, 768)}\n",
            "0.835763 (0.041642) with: {'ACTs': ('relu', 'relu', 'relu'), 'dws': (0.0, 0.1, 0.3), 'epochs': 25, 'ns': (256, 256, 256)}\n",
            "0.839774 (0.051765) with: {'ACTs': ('relu', 'relu', 'relu'), 'dws': (0.0, 0.1, 0.3), 'epochs': 25, 'ns': (512, 512, 512)}\n",
            "0.868725 (0.026738) with: {'ACTs': ('relu', 'relu', 'relu'), 'dws': (0.0, 0.1, 0.3), 'epochs': 50, 'ns': (768, 768, 768)}\n",
            "0.843360 (0.046735) with: {'ACTs': ('relu', 'relu', 'relu'), 'dws': (0.0, 0.1, 0.3), 'epochs': 50, 'ns': (256, 256, 256)}\n",
            "0.848962 (0.036794) with: {'ACTs': ('relu', 'relu', 'relu'), 'dws': (0.0, 0.1, 0.3), 'epochs': 50, 'ns': (512, 512, 512)}\n",
            "0.860445 (0.042788) with: {'ACTs': ('relu', 'relu', 'relu'), 'dws': (0.0, 0.1, 0.3), 'epochs': 75, 'ns': (768, 768, 768)}\n",
            "0.871173 (0.024286) with: {'ACTs': ('relu', 'relu', 'relu'), 'dws': (0.0, 0.1, 0.3), 'epochs': 75, 'ns': (256, 256, 256)}\n",
            "0.863217 (0.026027) with: {'ACTs': ('relu', 'relu', 'relu'), 'dws': (0.0, 0.1, 0.3), 'epochs': 75, 'ns': (512, 512, 512)}\n",
            "0.851969 (0.024394) with: {'ACTs': ('relu', 'relu', 'relu'), 'dws': (0.3, 0.1, 0), 'epochs': 25, 'ns': (768, 768, 768)}\n",
            "0.855842 (0.031715) with: {'ACTs': ('relu', 'relu', 'relu'), 'dws': (0.3, 0.1, 0), 'epochs': 25, 'ns': (256, 256, 256)}\n",
            "0.863767 (0.038131) with: {'ACTs': ('relu', 'relu', 'relu'), 'dws': (0.3, 0.1, 0), 'epochs': 25, 'ns': (512, 512, 512)}\n",
            "0.854608 (0.051517) with: {'ACTs': ('relu', 'relu', 'relu'), 'dws': (0.3, 0.1, 0), 'epochs': 50, 'ns': (768, 768, 768)}\n",
            "0.868091 (0.034329) with: {'ACTs': ('relu', 'relu', 'relu'), 'dws': (0.3, 0.1, 0), 'epochs': 50, 'ns': (256, 256, 256)}\n",
            "0.840554 (0.047878) with: {'ACTs': ('relu', 'relu', 'relu'), 'dws': (0.3, 0.1, 0), 'epochs': 50, 'ns': (512, 512, 512)}\n",
            "0.855131 (0.030033) with: {'ACTs': ('relu', 'relu', 'relu'), 'dws': (0.3, 0.1, 0), 'epochs': 75, 'ns': (768, 768, 768)}\n",
            "0.861522 (0.027581) with: {'ACTs': ('relu', 'relu', 'relu'), 'dws': (0.3, 0.1, 0), 'epochs': 75, 'ns': (256, 256, 256)}\n",
            "0.862279 (0.042030) with: {'ACTs': ('relu', 'relu', 'relu'), 'dws': (0.3, 0.1, 0), 'epochs': 75, 'ns': (512, 512, 512)}\n"
          ],
          "name": "stdout"
        }
      ]
    },
    {
      "cell_type": "markdown",
      "metadata": {
        "id": "PP5883tFIbCr"
      },
      "source": [
        "Now we use our overall score function to report how well our model did."
      ]
    },
    {
      "cell_type": "code",
      "metadata": {
        "colab": {
          "base_uri": "https://localhost:8080/"
        },
        "id": "NKsEXiWdXw8f",
        "outputId": "2cf43c70-b189-4e01-fe56-f1d77fb52aa7"
      },
      "source": [
        "model = grid_result.best_estimator_\n",
        "pred =model.predict(test_prepared)\n",
        "clf_scores(ann_test_label, pred);"
      ],
      "execution_count": null,
      "outputs": [
        {
          "output_type": "stream",
          "text": [
            "Confusion Matrix:\n",
            " [[319  13   1]\n",
            " [  8  51   5]\n",
            " [  0   2  27]]\n",
            "Precision:\n",
            " [0.97553517 0.77272727 0.81818182] \n",
            "Recall:\n",
            " [0.95795796 0.796875   0.93103448] \n",
            "F1 Score:\n",
            " [0.96666667 0.78461538 0.87096774] \n",
            "\n"
          ],
          "name": "stdout"
        },
        {
          "output_type": "stream",
          "text": [
            "/usr/local/lib/python3.7/dist-packages/tensorflow/python/keras/engine/sequential.py:450: UserWarning: `model.predict_classes()` is deprecated and will be removed after 2021-01-01. Please use instead:* `np.argmax(model.predict(x), axis=-1)`,   if your model does multi-class classification   (e.g. if it uses a `softmax` last-layer activation).* `(model.predict(x) > 0.5).astype(\"int32\")`,   if your model does binary classification   (e.g. if it uses a `sigmoid` last-layer activation).\n",
            "  warnings.warn('`model.predict_classes()` is deprecated and '\n"
          ],
          "name": "stderr"
        }
      ]
    },
    {
      "cell_type": "markdown",
      "metadata": {
        "id": "zPa135rJIhM8"
      },
      "source": [
        "Let's make our final model below."
      ]
    },
    {
      "cell_type": "code",
      "metadata": {
        "colab": {
          "base_uri": "https://localhost:8080/"
        },
        "id": "vm8pvjfdAQxl",
        "outputId": "38eb8c6f-d5a8-4b9c-f4b5-7e418a54b292"
      },
      "source": [
        "model = SM(ns=[512,512,512], ACTs=['relu','relu','relu'], dws=[0.2,0.2,0.2])\n",
        "\n",
        "checkpoint_filepath = 'ANN.h5'\n",
        "model_checkpoint_callback = keras.callbacks.ModelCheckpoint(\n",
        "    filepath=checkpoint_filepath,\n",
        "    save_weights_only=True,\n",
        "    monitor='val_accuracy',\n",
        "    mode='max',\n",
        "    save_best_only=True)\n",
        "\n",
        "history = model.fit(train_prepared[:-200], ann_train_labels[:-200], \n",
        "                    validation_data=(train_prepared[-200:], ann_train_labels[-200:]),\n",
        "                    epochs=25, callbacks=[model_checkpoint_callback]) \n",
        "\n",
        "# The model weights (that are considered the best) are loaded into the model.\n",
        "model.load_weights(checkpoint_filepath)\n",
        "\n",
        "pred = np.argmax(model.predict(test_prepared), axis = 1)\n",
        "clf_scores(ann_test_labels, pred);\n"
      ],
      "execution_count": null,
      "outputs": [
        {
          "output_type": "stream",
          "text": [
            "Epoch 1/25\n",
            "47/47 [==============================] - 2s 21ms/step - loss: 0.9346 - accuracy: 0.7313 - val_loss: 0.2345 - val_accuracy: 0.8700\n",
            "Epoch 2/25\n",
            "47/47 [==============================] - 1s 16ms/step - loss: 0.2487 - accuracy: 0.8945 - val_loss: 0.2872 - val_accuracy: 0.9000\n",
            "Epoch 3/25\n",
            "47/47 [==============================] - 1s 16ms/step - loss: 0.2176 - accuracy: 0.8962 - val_loss: 0.2166 - val_accuracy: 0.8700\n",
            "Epoch 4/25\n",
            "47/47 [==============================] - 1s 16ms/step - loss: 0.2024 - accuracy: 0.9127 - val_loss: 0.2151 - val_accuracy: 0.9250\n",
            "Epoch 5/25\n",
            "47/47 [==============================] - 1s 18ms/step - loss: 0.1863 - accuracy: 0.9211 - val_loss: 0.2167 - val_accuracy: 0.9250\n",
            "Epoch 6/25\n",
            "47/47 [==============================] - 1s 18ms/step - loss: 0.1588 - accuracy: 0.9317 - val_loss: 0.2218 - val_accuracy: 0.9150\n",
            "Epoch 7/25\n",
            "47/47 [==============================] - 1s 16ms/step - loss: 0.1481 - accuracy: 0.9290 - val_loss: 0.2582 - val_accuracy: 0.9250\n",
            "Epoch 8/25\n",
            "47/47 [==============================] - 1s 16ms/step - loss: 0.1366 - accuracy: 0.9368 - val_loss: 0.1982 - val_accuracy: 0.9150\n",
            "Epoch 9/25\n",
            "47/47 [==============================] - 1s 15ms/step - loss: 0.1398 - accuracy: 0.9481 - val_loss: 0.2014 - val_accuracy: 0.9250\n",
            "Epoch 10/25\n",
            "47/47 [==============================] - 1s 17ms/step - loss: 0.1359 - accuracy: 0.9440 - val_loss: 0.2192 - val_accuracy: 0.9200\n",
            "Epoch 11/25\n",
            "47/47 [==============================] - 1s 17ms/step - loss: 0.1179 - accuracy: 0.9500 - val_loss: 0.2389 - val_accuracy: 0.9200\n",
            "Epoch 12/25\n",
            "47/47 [==============================] - 1s 16ms/step - loss: 0.1189 - accuracy: 0.9420 - val_loss: 0.3093 - val_accuracy: 0.9350\n",
            "Epoch 13/25\n",
            "47/47 [==============================] - 1s 18ms/step - loss: 0.1120 - accuracy: 0.9469 - val_loss: 0.2574 - val_accuracy: 0.9200\n",
            "Epoch 14/25\n",
            "47/47 [==============================] - 1s 17ms/step - loss: 0.0934 - accuracy: 0.9644 - val_loss: 0.2525 - val_accuracy: 0.9250\n",
            "Epoch 15/25\n",
            "47/47 [==============================] - 1s 17ms/step - loss: 0.1061 - accuracy: 0.9538 - val_loss: 0.2683 - val_accuracy: 0.9350\n",
            "Epoch 16/25\n",
            "47/47 [==============================] - 1s 17ms/step - loss: 0.0734 - accuracy: 0.9690 - val_loss: 0.2812 - val_accuracy: 0.9250\n",
            "Epoch 17/25\n",
            "47/47 [==============================] - 1s 16ms/step - loss: 0.0755 - accuracy: 0.9719 - val_loss: 0.2914 - val_accuracy: 0.9200\n",
            "Epoch 18/25\n",
            "47/47 [==============================] - 1s 16ms/step - loss: 0.0634 - accuracy: 0.9715 - val_loss: 0.2637 - val_accuracy: 0.9300\n",
            "Epoch 19/25\n",
            "47/47 [==============================] - 1s 17ms/step - loss: 0.0849 - accuracy: 0.9607 - val_loss: 0.2799 - val_accuracy: 0.9200\n",
            "Epoch 20/25\n",
            "47/47 [==============================] - 1s 16ms/step - loss: 0.0829 - accuracy: 0.9666 - val_loss: 0.3765 - val_accuracy: 0.9350\n",
            "Epoch 21/25\n",
            "47/47 [==============================] - 1s 16ms/step - loss: 0.0738 - accuracy: 0.9622 - val_loss: 0.2848 - val_accuracy: 0.9350\n",
            "Epoch 22/25\n",
            "47/47 [==============================] - 1s 16ms/step - loss: 0.0780 - accuracy: 0.9690 - val_loss: 0.3268 - val_accuracy: 0.9400\n",
            "Epoch 23/25\n",
            "47/47 [==============================] - 1s 17ms/step - loss: 0.0505 - accuracy: 0.9849 - val_loss: 0.3344 - val_accuracy: 0.9250\n",
            "Epoch 24/25\n",
            "47/47 [==============================] - 1s 18ms/step - loss: 0.0558 - accuracy: 0.9775 - val_loss: 0.3982 - val_accuracy: 0.9250\n",
            "Epoch 25/25\n",
            "47/47 [==============================] - 1s 17ms/step - loss: 0.0530 - accuracy: 0.9739 - val_loss: 0.2979 - val_accuracy: 0.9200\n",
            "Confusion Matrix:\n",
            " [[319  14   0]\n",
            " [  9  50   5]\n",
            " [  2   1  26]]\n",
            "Precision:\n",
            " [0.96666667 0.76923077 0.83870968] \n",
            "Recall:\n",
            " [0.95795796 0.78125    0.89655172] \n",
            "F1 Score:\n",
            " [0.96229261 0.7751938  0.86666667] \n",
            "\n"
          ],
          "name": "stdout"
        }
      ]
    },
    {
      "cell_type": "code",
      "metadata": {
        "colab": {
          "base_uri": "https://localhost:8080/"
        },
        "id": "CL-XRgcSs3IM",
        "outputId": "9c6660a3-3b3e-4c31-b6cf-9832c925fc65"
      },
      "source": [
        "pred = np.argmax(model.predict(test_prepared), axis = 1)\n",
        "print(\"ANN Accuracy: \", accuracy_score(test_label, y_pred))\n",
        "clf_scores(ann_test_labels, pred);"
      ],
      "execution_count": null,
      "outputs": [
        {
          "output_type": "stream",
          "text": [
            "ANN Accuracy:  0.9507042253521126\n",
            "Confusion Matrix:\n",
            " [[319  13   1]\n",
            " [ 14  47   3]\n",
            " [  1   2  26]]\n",
            "Precision:\n",
            " [0.95508982 0.75806452 0.86666667] \n",
            "Recall:\n",
            " [0.95795796 0.734375   0.89655172] \n",
            "F1 Score:\n",
            " [0.95652174 0.74603175 0.88135593] \n",
            "\n"
          ],
          "name": "stdout"
        }
      ]
    },
    {
      "cell_type": "code",
      "metadata": {
        "colab": {
          "base_uri": "https://localhost:8080/"
        },
        "id": "ZXxXLCUkIrKM",
        "outputId": "60ad5f11-8ee4-4063-e253-1edd4a9b8d13"
      },
      "source": [
        "model.save('ML4VA_ANN')"
      ],
      "execution_count": null,
      "outputs": [
        {
          "output_type": "stream",
          "text": [
            "INFO:tensorflow:Assets written to: ML4VA_ANN/assets\n"
          ],
          "name": "stdout"
        }
      ]
    },
    {
      "cell_type": "markdown",
      "metadata": {
        "id": "1KS-0Bf9LWFh"
      },
      "source": [
        "NEXT STEPS:\n",
        "bagging/ensemble?\n",
        "remember to train final model with all data after testing."
      ]
    },
    {
      "cell_type": "code",
      "metadata": {
        "id": "abBaTD6FMZwl"
      },
      "source": [
        ""
      ],
      "execution_count": null,
      "outputs": []
    }
  ]
}